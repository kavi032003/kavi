{
  "metadata": {
    "kernelspec": {
      "name": "python3",
      "display_name": "Python 3",
      "language": "python"
    },
    "language_info": {
      "name": "python",
      "version": "3.11.11",
      "mimetype": "text/x-python",
      "codemirror_mode": {
        "name": "ipython",
        "version": 3
      },
      "pygments_lexer": "ipython3",
      "nbconvert_exporter": "python",
      "file_extension": ".py"
    },
    "kaggle": {
      "accelerator": "none",
      "dataSources": [
        {
          "sourceId": 8165591,
          "sourceType": "datasetVersion",
          "datasetId": 4831777
        }
      ],
      "dockerImageVersionId": 31012,
      "isInternetEnabled": false,
      "language": "python",
      "sourceType": "notebook",
      "isGpuEnabled": false
    },
    "colab": {
      "name": "notebookdf2a2c64cf",
      "provenance": [],
      "include_colab_link": true
    }
  },
  "nbformat_minor": 0,
  "nbformat": 4,
  "cells": [
    {
      "cell_type": "markdown",
      "metadata": {
        "id": "view-in-github",
        "colab_type": "text"
      },
      "source": [
        "<a href=\"https://colab.research.google.com/github/kavi032003/kavi/blob/main/notebookdf2a2c64cf.ipynb\" target=\"_parent\"><img src=\"https://colab.research.google.com/assets/colab-badge.svg\" alt=\"Open In Colab\"/></a>"
      ]
    },
    {
      "source": [
        "# IMPORTANT: RUN THIS CELL IN ORDER TO IMPORT YOUR KAGGLE DATA SOURCES,\n",
        "# THEN FEEL FREE TO DELETE THIS CELL.\n",
        "# NOTE: THIS NOTEBOOK ENVIRONMENT DIFFERS FROM KAGGLE'S PYTHON\n",
        "# ENVIRONMENT SO THERE MAY BE MISSING LIBRARIES USED BY YOUR\n",
        "# NOTEBOOK.\n",
        "import kagglehub\n",
        "clmentbisaillon_fake_and_real_news_dataset_path = kagglehub.dataset_download('clmentbisaillon/fake-and-real-news-dataset')\n",
        "\n",
        "print('Data source import complete.')\n"
      ],
      "metadata": {
        "id": "t-feY2i1nHWh",
        "outputId": "a9c06271-3887-4372-a88c-cb1cd49c6a4d",
        "colab": {
          "base_uri": "https://localhost:8080/"
        }
      },
      "cell_type": "code",
      "outputs": [
        {
          "output_type": "stream",
          "name": "stdout",
          "text": [
            "Data source import complete.\n"
          ]
        }
      ],
      "execution_count": 1
    },
    {
      "cell_type": "code",
      "source": [
        "# Import necessary libraries\n",
        "import pandas as pd\n",
        "import numpy as np\n",
        "from sklearn.model_selection import train_test_split, cross_val_score\n",
        "from sklearn.feature_extraction.text import TfidfVectorizer\n",
        "from sklearn.linear_model import LogisticRegression\n",
        "from sklearn.metrics import classification_report, accuracy_score\n",
        "from sklearn.metrics import confusion_matrix\n",
        "import seaborn as sns\n",
        "import matplotlib.pyplot as plt\n",
        "import pickle\n",
        "import joblib\n",
        "\n"
      ],
      "metadata": {
        "trusted": true,
        "execution": {
          "iopub.status.busy": "2025-05-04T04:35:47.918064Z",
          "iopub.execute_input": "2025-05-04T04:35:47.918355Z",
          "iopub.status.idle": "2025-05-04T04:35:47.92423Z",
          "shell.execute_reply.started": "2025-05-04T04:35:47.918324Z",
          "shell.execute_reply": "2025-05-04T04:35:47.923366Z"
        },
        "id": "YeYyEXx6nHWl"
      },
      "outputs": [],
      "execution_count": 2
    },
    {
      "cell_type": "code",
      "source": [
        "df_fake = pd.read_csv(r'/kaggle/input/fake-and-real-news-dataset/Fake.csv')\n",
        "df_real = pd.read_csv(r'/kaggle/input/fake-and-real-news-dataset/True.csv')\n"
      ],
      "metadata": {
        "trusted": true,
        "execution": {
          "iopub.status.busy": "2025-05-04T04:35:47.925193Z",
          "iopub.execute_input": "2025-05-04T04:35:47.925439Z",
          "iopub.status.idle": "2025-05-04T04:35:49.619665Z",
          "shell.execute_reply.started": "2025-05-04T04:35:47.92542Z",
          "shell.execute_reply": "2025-05-04T04:35:49.618593Z"
        },
        "id": "_CpxRFIcnHWm"
      },
      "outputs": [],
      "execution_count": 3
    },
    {
      "cell_type": "code",
      "source": [
        "# Add labels\n",
        "df_fake['label'] = 0\n",
        "df_real['label'] = 1\n",
        "\n",
        "# Combine datasets\n",
        "df = pd.concat([df_fake, df_real]).reset_index(drop=True)\n",
        "\n",
        "# Check data\n",
        "df = df.sample(frac=1, random_state=42).reset_index(drop=True)\n",
        "\n",
        "# Combine title and text into a single feature\n",
        "df['text_data'] = df['title'] + \" \" + df['text']\n",
        "\n",
        "# Check the distribution\n",
        "df['label'].value_counts()"
      ],
      "metadata": {
        "trusted": true,
        "execution": {
          "iopub.status.busy": "2025-05-04T04:35:49.620631Z",
          "iopub.execute_input": "2025-05-04T04:35:49.620906Z",
          "iopub.status.idle": "2025-05-04T04:35:49.872778Z",
          "shell.execute_reply.started": "2025-05-04T04:35:49.620885Z",
          "shell.execute_reply": "2025-05-04T04:35:49.872028Z"
        },
        "id": "-pI62M1ynHWm",
        "outputId": "714a097c-c7c4-45f1-eb8f-4798866469a5",
        "colab": {
          "base_uri": "https://localhost:8080/",
          "height": 178
        }
      },
      "outputs": [
        {
          "output_type": "execute_result",
          "data": {
            "text/plain": [
              "label\n",
              "0    23481\n",
              "1    21417\n",
              "Name: count, dtype: int64"
            ],
            "text/html": [
              "<div>\n",
              "<style scoped>\n",
              "    .dataframe tbody tr th:only-of-type {\n",
              "        vertical-align: middle;\n",
              "    }\n",
              "\n",
              "    .dataframe tbody tr th {\n",
              "        vertical-align: top;\n",
              "    }\n",
              "\n",
              "    .dataframe thead th {\n",
              "        text-align: right;\n",
              "    }\n",
              "</style>\n",
              "<table border=\"1\" class=\"dataframe\">\n",
              "  <thead>\n",
              "    <tr style=\"text-align: right;\">\n",
              "      <th></th>\n",
              "      <th>count</th>\n",
              "    </tr>\n",
              "    <tr>\n",
              "      <th>label</th>\n",
              "      <th></th>\n",
              "    </tr>\n",
              "  </thead>\n",
              "  <tbody>\n",
              "    <tr>\n",
              "      <th>0</th>\n",
              "      <td>23481</td>\n",
              "    </tr>\n",
              "    <tr>\n",
              "      <th>1</th>\n",
              "      <td>21417</td>\n",
              "    </tr>\n",
              "  </tbody>\n",
              "</table>\n",
              "</div><br><label><b>dtype:</b> int64</label>"
            ]
          },
          "metadata": {},
          "execution_count": 4
        }
      ],
      "execution_count": 4
    },
    {
      "cell_type": "code",
      "source": [
        "df.head()"
      ],
      "metadata": {
        "trusted": true,
        "execution": {
          "iopub.status.busy": "2025-05-04T04:35:49.873692Z",
          "iopub.execute_input": "2025-05-04T04:35:49.873941Z",
          "iopub.status.idle": "2025-05-04T04:35:49.884858Z",
          "shell.execute_reply.started": "2025-05-04T04:35:49.873922Z",
          "shell.execute_reply": "2025-05-04T04:35:49.883789Z"
        },
        "id": "mam_HuVvnHWn",
        "outputId": "6354d5a7-eb35-42ce-e548-44b1117702d3",
        "colab": {
          "base_uri": "https://localhost:8080/",
          "height": 206
        }
      },
      "outputs": [
        {
          "output_type": "execute_result",
          "data": {
            "text/plain": [
              "                                               title  \\\n",
              "0  Ben Stein Calls Out 9th Circuit Court: Committ...   \n",
              "1  Trump drops Steve Bannon from National Securit...   \n",
              "2  Puerto Rico expects U.S. to lift Jones Act shi...   \n",
              "3   OOPS: Trump Just Accidentally Confirmed He Le...   \n",
              "4  Donald Trump heads for Scotland to reopen a go...   \n",
              "\n",
              "                                                text       subject  \\\n",
              "0  21st Century Wire says Ben Stein, reputable pr...       US_News   \n",
              "1  WASHINGTON (Reuters) - U.S. President Donald T...  politicsNews   \n",
              "2  (Reuters) - Puerto Rico Governor Ricardo Rosse...  politicsNews   \n",
              "3  On Monday, Donald Trump once again embarrassed...          News   \n",
              "4  GLASGOW, Scotland (Reuters) - Most U.S. presid...  politicsNews   \n",
              "\n",
              "                  date  label  \\\n",
              "0    February 13, 2017      0   \n",
              "1       April 5, 2017       1   \n",
              "2  September 27, 2017       1   \n",
              "3         May 22, 2017      0   \n",
              "4       June 24, 2016       1   \n",
              "\n",
              "                                           text_data  \n",
              "0  Ben Stein Calls Out 9th Circuit Court: Committ...  \n",
              "1  Trump drops Steve Bannon from National Securit...  \n",
              "2  Puerto Rico expects U.S. to lift Jones Act shi...  \n",
              "3   OOPS: Trump Just Accidentally Confirmed He Le...  \n",
              "4  Donald Trump heads for Scotland to reopen a go...  "
            ],
            "text/html": [
              "\n",
              "  <div id=\"df-dd28a667-964f-4f1f-beea-95ba64309dc3\" class=\"colab-df-container\">\n",
              "    <div>\n",
              "<style scoped>\n",
              "    .dataframe tbody tr th:only-of-type {\n",
              "        vertical-align: middle;\n",
              "    }\n",
              "\n",
              "    .dataframe tbody tr th {\n",
              "        vertical-align: top;\n",
              "    }\n",
              "\n",
              "    .dataframe thead th {\n",
              "        text-align: right;\n",
              "    }\n",
              "</style>\n",
              "<table border=\"1\" class=\"dataframe\">\n",
              "  <thead>\n",
              "    <tr style=\"text-align: right;\">\n",
              "      <th></th>\n",
              "      <th>title</th>\n",
              "      <th>text</th>\n",
              "      <th>subject</th>\n",
              "      <th>date</th>\n",
              "      <th>label</th>\n",
              "      <th>text_data</th>\n",
              "    </tr>\n",
              "  </thead>\n",
              "  <tbody>\n",
              "    <tr>\n",
              "      <th>0</th>\n",
              "      <td>Ben Stein Calls Out 9th Circuit Court: Committ...</td>\n",
              "      <td>21st Century Wire says Ben Stein, reputable pr...</td>\n",
              "      <td>US_News</td>\n",
              "      <td>February 13, 2017</td>\n",
              "      <td>0</td>\n",
              "      <td>Ben Stein Calls Out 9th Circuit Court: Committ...</td>\n",
              "    </tr>\n",
              "    <tr>\n",
              "      <th>1</th>\n",
              "      <td>Trump drops Steve Bannon from National Securit...</td>\n",
              "      <td>WASHINGTON (Reuters) - U.S. President Donald T...</td>\n",
              "      <td>politicsNews</td>\n",
              "      <td>April 5, 2017</td>\n",
              "      <td>1</td>\n",
              "      <td>Trump drops Steve Bannon from National Securit...</td>\n",
              "    </tr>\n",
              "    <tr>\n",
              "      <th>2</th>\n",
              "      <td>Puerto Rico expects U.S. to lift Jones Act shi...</td>\n",
              "      <td>(Reuters) - Puerto Rico Governor Ricardo Rosse...</td>\n",
              "      <td>politicsNews</td>\n",
              "      <td>September 27, 2017</td>\n",
              "      <td>1</td>\n",
              "      <td>Puerto Rico expects U.S. to lift Jones Act shi...</td>\n",
              "    </tr>\n",
              "    <tr>\n",
              "      <th>3</th>\n",
              "      <td>OOPS: Trump Just Accidentally Confirmed He Le...</td>\n",
              "      <td>On Monday, Donald Trump once again embarrassed...</td>\n",
              "      <td>News</td>\n",
              "      <td>May 22, 2017</td>\n",
              "      <td>0</td>\n",
              "      <td>OOPS: Trump Just Accidentally Confirmed He Le...</td>\n",
              "    </tr>\n",
              "    <tr>\n",
              "      <th>4</th>\n",
              "      <td>Donald Trump heads for Scotland to reopen a go...</td>\n",
              "      <td>GLASGOW, Scotland (Reuters) - Most U.S. presid...</td>\n",
              "      <td>politicsNews</td>\n",
              "      <td>June 24, 2016</td>\n",
              "      <td>1</td>\n",
              "      <td>Donald Trump heads for Scotland to reopen a go...</td>\n",
              "    </tr>\n",
              "  </tbody>\n",
              "</table>\n",
              "</div>\n",
              "    <div class=\"colab-df-buttons\">\n",
              "\n",
              "  <div class=\"colab-df-container\">\n",
              "    <button class=\"colab-df-convert\" onclick=\"convertToInteractive('df-dd28a667-964f-4f1f-beea-95ba64309dc3')\"\n",
              "            title=\"Convert this dataframe to an interactive table.\"\n",
              "            style=\"display:none;\">\n",
              "\n",
              "  <svg xmlns=\"http://www.w3.org/2000/svg\" height=\"24px\" viewBox=\"0 -960 960 960\">\n",
              "    <path d=\"M120-120v-720h720v720H120Zm60-500h600v-160H180v160Zm220 220h160v-160H400v160Zm0 220h160v-160H400v160ZM180-400h160v-160H180v160Zm440 0h160v-160H620v160ZM180-180h160v-160H180v160Zm440 0h160v-160H620v160Z\"/>\n",
              "  </svg>\n",
              "    </button>\n",
              "\n",
              "  <style>\n",
              "    .colab-df-container {\n",
              "      display:flex;\n",
              "      gap: 12px;\n",
              "    }\n",
              "\n",
              "    .colab-df-convert {\n",
              "      background-color: #E8F0FE;\n",
              "      border: none;\n",
              "      border-radius: 50%;\n",
              "      cursor: pointer;\n",
              "      display: none;\n",
              "      fill: #1967D2;\n",
              "      height: 32px;\n",
              "      padding: 0 0 0 0;\n",
              "      width: 32px;\n",
              "    }\n",
              "\n",
              "    .colab-df-convert:hover {\n",
              "      background-color: #E2EBFA;\n",
              "      box-shadow: 0px 1px 2px rgba(60, 64, 67, 0.3), 0px 1px 3px 1px rgba(60, 64, 67, 0.15);\n",
              "      fill: #174EA6;\n",
              "    }\n",
              "\n",
              "    .colab-df-buttons div {\n",
              "      margin-bottom: 4px;\n",
              "    }\n",
              "\n",
              "    [theme=dark] .colab-df-convert {\n",
              "      background-color: #3B4455;\n",
              "      fill: #D2E3FC;\n",
              "    }\n",
              "\n",
              "    [theme=dark] .colab-df-convert:hover {\n",
              "      background-color: #434B5C;\n",
              "      box-shadow: 0px 1px 3px 1px rgba(0, 0, 0, 0.15);\n",
              "      filter: drop-shadow(0px 1px 2px rgba(0, 0, 0, 0.3));\n",
              "      fill: #FFFFFF;\n",
              "    }\n",
              "  </style>\n",
              "\n",
              "    <script>\n",
              "      const buttonEl =\n",
              "        document.querySelector('#df-dd28a667-964f-4f1f-beea-95ba64309dc3 button.colab-df-convert');\n",
              "      buttonEl.style.display =\n",
              "        google.colab.kernel.accessAllowed ? 'block' : 'none';\n",
              "\n",
              "      async function convertToInteractive(key) {\n",
              "        const element = document.querySelector('#df-dd28a667-964f-4f1f-beea-95ba64309dc3');\n",
              "        const dataTable =\n",
              "          await google.colab.kernel.invokeFunction('convertToInteractive',\n",
              "                                                    [key], {});\n",
              "        if (!dataTable) return;\n",
              "\n",
              "        const docLinkHtml = 'Like what you see? Visit the ' +\n",
              "          '<a target=\"_blank\" href=https://colab.research.google.com/notebooks/data_table.ipynb>data table notebook</a>'\n",
              "          + ' to learn more about interactive tables.';\n",
              "        element.innerHTML = '';\n",
              "        dataTable['output_type'] = 'display_data';\n",
              "        await google.colab.output.renderOutput(dataTable, element);\n",
              "        const docLink = document.createElement('div');\n",
              "        docLink.innerHTML = docLinkHtml;\n",
              "        element.appendChild(docLink);\n",
              "      }\n",
              "    </script>\n",
              "  </div>\n",
              "\n",
              "\n",
              "    <div id=\"df-6c9433d7-ddc0-4235-8346-c93a0936ebde\">\n",
              "      <button class=\"colab-df-quickchart\" onclick=\"quickchart('df-6c9433d7-ddc0-4235-8346-c93a0936ebde')\"\n",
              "                title=\"Suggest charts\"\n",
              "                style=\"display:none;\">\n",
              "\n",
              "<svg xmlns=\"http://www.w3.org/2000/svg\" height=\"24px\"viewBox=\"0 0 24 24\"\n",
              "     width=\"24px\">\n",
              "    <g>\n",
              "        <path d=\"M19 3H5c-1.1 0-2 .9-2 2v14c0 1.1.9 2 2 2h14c1.1 0 2-.9 2-2V5c0-1.1-.9-2-2-2zM9 17H7v-7h2v7zm4 0h-2V7h2v10zm4 0h-2v-4h2v4z\"/>\n",
              "    </g>\n",
              "</svg>\n",
              "      </button>\n",
              "\n",
              "<style>\n",
              "  .colab-df-quickchart {\n",
              "      --bg-color: #E8F0FE;\n",
              "      --fill-color: #1967D2;\n",
              "      --hover-bg-color: #E2EBFA;\n",
              "      --hover-fill-color: #174EA6;\n",
              "      --disabled-fill-color: #AAA;\n",
              "      --disabled-bg-color: #DDD;\n",
              "  }\n",
              "\n",
              "  [theme=dark] .colab-df-quickchart {\n",
              "      --bg-color: #3B4455;\n",
              "      --fill-color: #D2E3FC;\n",
              "      --hover-bg-color: #434B5C;\n",
              "      --hover-fill-color: #FFFFFF;\n",
              "      --disabled-bg-color: #3B4455;\n",
              "      --disabled-fill-color: #666;\n",
              "  }\n",
              "\n",
              "  .colab-df-quickchart {\n",
              "    background-color: var(--bg-color);\n",
              "    border: none;\n",
              "    border-radius: 50%;\n",
              "    cursor: pointer;\n",
              "    display: none;\n",
              "    fill: var(--fill-color);\n",
              "    height: 32px;\n",
              "    padding: 0;\n",
              "    width: 32px;\n",
              "  }\n",
              "\n",
              "  .colab-df-quickchart:hover {\n",
              "    background-color: var(--hover-bg-color);\n",
              "    box-shadow: 0 1px 2px rgba(60, 64, 67, 0.3), 0 1px 3px 1px rgba(60, 64, 67, 0.15);\n",
              "    fill: var(--button-hover-fill-color);\n",
              "  }\n",
              "\n",
              "  .colab-df-quickchart-complete:disabled,\n",
              "  .colab-df-quickchart-complete:disabled:hover {\n",
              "    background-color: var(--disabled-bg-color);\n",
              "    fill: var(--disabled-fill-color);\n",
              "    box-shadow: none;\n",
              "  }\n",
              "\n",
              "  .colab-df-spinner {\n",
              "    border: 2px solid var(--fill-color);\n",
              "    border-color: transparent;\n",
              "    border-bottom-color: var(--fill-color);\n",
              "    animation:\n",
              "      spin 1s steps(1) infinite;\n",
              "  }\n",
              "\n",
              "  @keyframes spin {\n",
              "    0% {\n",
              "      border-color: transparent;\n",
              "      border-bottom-color: var(--fill-color);\n",
              "      border-left-color: var(--fill-color);\n",
              "    }\n",
              "    20% {\n",
              "      border-color: transparent;\n",
              "      border-left-color: var(--fill-color);\n",
              "      border-top-color: var(--fill-color);\n",
              "    }\n",
              "    30% {\n",
              "      border-color: transparent;\n",
              "      border-left-color: var(--fill-color);\n",
              "      border-top-color: var(--fill-color);\n",
              "      border-right-color: var(--fill-color);\n",
              "    }\n",
              "    40% {\n",
              "      border-color: transparent;\n",
              "      border-right-color: var(--fill-color);\n",
              "      border-top-color: var(--fill-color);\n",
              "    }\n",
              "    60% {\n",
              "      border-color: transparent;\n",
              "      border-right-color: var(--fill-color);\n",
              "    }\n",
              "    80% {\n",
              "      border-color: transparent;\n",
              "      border-right-color: var(--fill-color);\n",
              "      border-bottom-color: var(--fill-color);\n",
              "    }\n",
              "    90% {\n",
              "      border-color: transparent;\n",
              "      border-bottom-color: var(--fill-color);\n",
              "    }\n",
              "  }\n",
              "</style>\n",
              "\n",
              "      <script>\n",
              "        async function quickchart(key) {\n",
              "          const quickchartButtonEl =\n",
              "            document.querySelector('#' + key + ' button');\n",
              "          quickchartButtonEl.disabled = true;  // To prevent multiple clicks.\n",
              "          quickchartButtonEl.classList.add('colab-df-spinner');\n",
              "          try {\n",
              "            const charts = await google.colab.kernel.invokeFunction(\n",
              "                'suggestCharts', [key], {});\n",
              "          } catch (error) {\n",
              "            console.error('Error during call to suggestCharts:', error);\n",
              "          }\n",
              "          quickchartButtonEl.classList.remove('colab-df-spinner');\n",
              "          quickchartButtonEl.classList.add('colab-df-quickchart-complete');\n",
              "        }\n",
              "        (() => {\n",
              "          let quickchartButtonEl =\n",
              "            document.querySelector('#df-6c9433d7-ddc0-4235-8346-c93a0936ebde button');\n",
              "          quickchartButtonEl.style.display =\n",
              "            google.colab.kernel.accessAllowed ? 'block' : 'none';\n",
              "        })();\n",
              "      </script>\n",
              "    </div>\n",
              "\n",
              "    </div>\n",
              "  </div>\n"
            ],
            "application/vnd.google.colaboratory.intrinsic+json": {
              "type": "dataframe",
              "variable_name": "df",
              "summary": "{\n  \"name\": \"df\",\n  \"rows\": 44898,\n  \"fields\": [\n    {\n      \"column\": \"title\",\n      \"properties\": {\n        \"dtype\": \"string\",\n        \"num_unique_values\": 38729,\n        \"samples\": [\n          \" WATCH: Dem Senator BLASTS Trump, Calls Him A Liar Live On Air\",\n          \"Trump calls for firm response to North Korea, targets Seoul on trade\",\n          \"Zimbabwe army leaves streets a month after Mugabe's ouster\"\n        ],\n        \"semantic_type\": \"\",\n        \"description\": \"\"\n      }\n    },\n    {\n      \"column\": \"text\",\n      \"properties\": {\n        \"dtype\": \"string\",\n        \"num_unique_values\": 38646,\n        \"samples\": [\n          \"It takes one to know one. Turkey just held a referendum that greatly expands the power of their president, Recep Tayyip Erdogan. It passed by a very narrow margin, taking Turkey on its latest step toward brutal dictatorship, and here s Donald Trump, who sources say called Erdogan to congratulate him on  winning  the referendum vote.While we re busy justifying blowing up absolutely nothing in Syria because a brutal dictator used sarin gas on his people, Trump is busy calling someone who s working hard on becoming the region s next brutal dictator to congratulate him on furthering that goal.This referendum, according to The Daily Beast, moves Turkey away from a parliamentary democracy and towards one-person rule. But what he has already done there makes the referendum more of a formality. Erdogan had already managed to form a one-party government   a move that greatly diminishes the voices of opposition.Last year, Erdogan asked Turkey s parliament to redefine the country s anti-extremism law to include politicians, journalists and members of academia. He claimed that  pro-Kurdish  politicians were inciting terrorism, and journalists and academics were spreading the info that allowed the politicians to do so. Therefore, they are all terrorists.Branding press as  the enemy  is something Trump has been trying to do here. As the Washington Post s front page motto says,  Democracy dies in darkness.  This is the darkness.And now, Erdogan is, more or less, the sole ruler of Turkey.But what does Trump care? It wouldn t be surprising to find that he wishes something like that would happen here, too, if for no other reason than it would help cement his overinflated opinion of himself as a great man who is beloved by all, with nobody left to shine a light on the truth, like, oh, say, a free press.The way the Turkey referendum was held has appalled international election monitors. According to them,  voters were not provided with adequate information, opposition voices were muzzled and the rules were changed at the last minute.  In short, this was not a truly democratic process.Good job continuing to support authoritarian rulers over true democracies, Trump. You re about as un-American as it gets.Featured image by Mark Wilson via Getty Images\",\n          \"Donald Trump just got caught lying again and there is video to prove it.When former FBI Director James Comey testified under oath in the Senate on Thursday, he recalled that Trump demanded loyalty from him before he was asked to drop the investigation of Michael Flynn and Trump s ties to Russia. The President said,  I need loyalty, I expect loyalty,  Comey testified.But when asked by ABC reporter Jon Karl if he had demanded Comey s loyalty, Trump denied the whole thing and pretended that he has never demanded loyalty from anyone in his entire life. So he said those things under oath,  Karl began.  Would you be willing to speak under oath to give your version of those events? One hundred percent,  Trump replied.  I didn t say under oath   I hardly know the man. I m not going to say, I want you to pledge allegiance. Who would do that? Who would ask a man to pledge allegiance under oath? I mean, think of it. I hardly know the man. It doesn t make sense. No, I didn t say that, and I didn t say the other. If Trump were to say this under oath he would he would be committing perjury. And CNN proved it by playing video of Trump on the campaign trail in Florida asking people in the crowd to raise their hands and pledge their loyalty to him. Keep in mind that Trump had never met anyone in that audience. But he had several discussions and meetings with Comey. In other words, Comey was not a complete stranger to him. If he was willing to ask a crowd of random people to pledge their allegiance to him, he would certainly be willing to demand loyalty from Comey.Here s the damning video via YouTube.This is yet more proof that Trump is a liar who has zero credibility. He will say anything to save his own ass.Featured image via Olivier Douliery   Pool/Getty Images\",\n          \"WASHINGTON (Reuters) - The U.S. State Department said on Monday Washington was  very concerned  by reports of violence around the Iraqi oil city of Kirkuk, which was seized by Baghdad s forces from Kurds.  We are monitoring the situation closely and call on all parties to coordinate military activities and restore calm,   State Department spokeswoman Heather Nauert said in a statement. \"\n        ],\n        \"semantic_type\": \"\",\n        \"description\": \"\"\n      }\n    },\n    {\n      \"column\": \"subject\",\n      \"properties\": {\n        \"dtype\": \"category\",\n        \"num_unique_values\": 8,\n        \"samples\": [\n          \"politicsNews\",\n          \"worldnews\",\n          \"US_News\"\n        ],\n        \"semantic_type\": \"\",\n        \"description\": \"\"\n      }\n    },\n    {\n      \"column\": \"date\",\n      \"properties\": {\n        \"dtype\": \"category\",\n        \"num_unique_values\": 2397,\n        \"samples\": [\n          \"July 3, 2016\",\n          \"Jul 29, 2015\",\n          \"Nov 28, 2016\"\n        ],\n        \"semantic_type\": \"\",\n        \"description\": \"\"\n      }\n    },\n    {\n      \"column\": \"label\",\n      \"properties\": {\n        \"dtype\": \"number\",\n        \"std\": 0,\n        \"min\": 0,\n        \"max\": 1,\n        \"num_unique_values\": 2,\n        \"samples\": [\n          1,\n          0\n        ],\n        \"semantic_type\": \"\",\n        \"description\": \"\"\n      }\n    },\n    {\n      \"column\": \"text_data\",\n      \"properties\": {\n        \"dtype\": \"string\",\n        \"num_unique_values\": 39105,\n        \"samples\": [\n          \"HILLARY\\u2019S RIGHT-HAND WOMAN: HUMA ABEDIN\\u2019S Job At A Radical Muslim Journal Calls Into Question Security Clearance For State Department Huma Abedin is no champion for female equality with her record of working closely with a radical Muslim Journal. Her family is known to be connected to some shady characters in the Muslim world BUT this hits home:Hillary Clinton s top campaign aide, and the woman who might be the future White House chief of staff to the first female US president, for a decade edited a radical Muslim publication that opposed women s rights and blamed the US for 9/11.One of Clinton s biggest accomplishments listed on her campaign Web site is her support for the UN women s conference in Bejing in 1995, when she famously declared,  Women s rights are human rights.  Her speech has emerged as a focal point of her campaign, featured prominently in last month s Morgan Freeman-narrated convention video introducing her as the Democratic nominee.However, soon after that  historic and transformational  1995 event, as Clinton recently described it, her top aide Huma Abedin published articles in a Saudi journal taking Clinton s feminist platform apart, piece by piece. At the time, Abedin was assistant editor of the Journal of Muslim Minority Affairs working under her mother, who remains editor-in-chief. She was also working in the White House as an intern for then-First Lady Clinton.Headlined  Women s Rights are Islamic Rights,  a 1996 article argues that single moms, working moms and gay couples with children should not be recognized as families. It also states that more revealing dress ushered in by women s liberation  directly translates into unwanted results of sexual promiscuity and irresponsibility and indirectly promote violence against women.  In other words, sexually liberated women are just asking to be raped.Read more: NYP\",\n          \" Trump Has The Most UNCOMFORTABLE Moment With Merkel, Makes A FOOL Of Himself (VIDEO) Earlier today, Donald Trump had a joint conference with German Chancellor Angela Merkel, and he used it as an opportunity to embarrass himself (and the rest of the United States) in front of yet another world leader. Sadly, this is a pattern that the once highly respected America is becoming used to.When Trump was asked if he regretted some of his tweets, particularly his insane wiretapping accusations against former President Barack Obama, Trump failed miserably in his attempt to handle the situation and redeem himself with Merkel, who he d been criticizing for the past few months after she allowed Syrian refugees into her country.Trump stated that he  very seldom  regrets the things he posts on Twitter, right before turning to Merkel and making a reference to the unfounded wiretapping accusation he created. Trump suggested that perhaps the two of them had something in common, in an attempt to make a joke about Obama s surveillance of Germany s administration and press. The problem was, it took several moments for anyone in the audience to get the joke, and the tension in the room was nothing but awkward and uncomfortable as everyone tried to figure out just what the hell Trump was talking about.You can watch this strange moment unfold below, thanks to MSNBC:This humiliating moment was just one of the memorable instances between Merkel and Trump today. Trump embarrassed himself again during a sit-down meeting with the German chancellor by turning down her offer to shake hands, making himself seem even more offensive and rude than ever before. Considering Trump s horrendous track record with women, he couldn t have chosen a more disrespectful thing to do. Then again, I guess we should all be thankful that he didn t grab her by the p*ssy.Trump continues to make the U.S. look horrible in front of other countries, and it s only been two months. I don t even want to think about the damage he could do to our reputation in four years. Hopefully, he won t last that long.Featured image via Justin Sullivan/Getty Images\"\n        ],\n        \"semantic_type\": \"\",\n        \"description\": \"\"\n      }\n    }\n  ]\n}"
            }
          },
          "metadata": {},
          "execution_count": 5
        }
      ],
      "execution_count": 5
    },
    {
      "cell_type": "code",
      "source": [
        "print(f\"Dataset shape: {df.shape}\")\n",
        "print(df['label'].value_counts())\n",
        "\n",
        "# Optional: Check for missing values\n",
        "print(df.isnull().sum())"
      ],
      "metadata": {
        "trusted": true,
        "execution": {
          "iopub.status.busy": "2025-05-04T04:35:49.885879Z",
          "iopub.execute_input": "2025-05-04T04:35:49.886754Z",
          "iopub.status.idle": "2025-05-04T04:35:49.935916Z",
          "shell.execute_reply.started": "2025-05-04T04:35:49.886721Z",
          "shell.execute_reply": "2025-05-04T04:35:49.934921Z"
        },
        "id": "h6MKMCK4nHWn",
        "outputId": "3535ceaa-fb26-42a0-a00f-03f748aaf685",
        "colab": {
          "base_uri": "https://localhost:8080/"
        }
      },
      "outputs": [
        {
          "output_type": "stream",
          "name": "stdout",
          "text": [
            "Dataset shape: (44898, 6)\n",
            "label\n",
            "0    23481\n",
            "1    21417\n",
            "Name: count, dtype: int64\n",
            "title        0\n",
            "text         0\n",
            "subject      0\n",
            "date         0\n",
            "label        0\n",
            "text_data    0\n",
            "dtype: int64\n"
          ]
        }
      ],
      "execution_count": 6
    },
    {
      "cell_type": "code",
      "source": [
        "X = df['text']  # or 'title' if you want short text\n",
        "y = df['label']\n"
      ],
      "metadata": {
        "trusted": true,
        "execution": {
          "iopub.status.busy": "2025-05-04T04:35:49.937385Z",
          "iopub.execute_input": "2025-05-04T04:35:49.937763Z",
          "iopub.status.idle": "2025-05-04T04:35:49.942904Z",
          "shell.execute_reply.started": "2025-05-04T04:35:49.93774Z",
          "shell.execute_reply": "2025-05-04T04:35:49.941898Z"
        },
        "id": "qykJjBVjnHWn"
      },
      "outputs": [],
      "execution_count": 7
    },
    {
      "cell_type": "code",
      "source": [
        "X_train, X_test, y_train, y_test = train_test_split(X, y, test_size=0.2, random_state=42, stratify=y\n",
        ")\n"
      ],
      "metadata": {
        "trusted": true,
        "execution": {
          "iopub.status.busy": "2025-05-04T04:35:49.943966Z",
          "iopub.execute_input": "2025-05-04T04:35:49.944271Z",
          "iopub.status.idle": "2025-05-04T04:35:49.99338Z",
          "shell.execute_reply.started": "2025-05-04T04:35:49.944238Z",
          "shell.execute_reply": "2025-05-04T04:35:49.992484Z"
        },
        "id": "XWajhED5nHWo"
      },
      "outputs": [],
      "execution_count": 8
    },
    {
      "cell_type": "code",
      "source": [
        "vectorizer = TfidfVectorizer(stop_words='english', max_df=0.7)\n",
        "X_train_tfidf = vectorizer.fit_transform(X_train)\n",
        "X_test_tfidf = vectorizer.transform(X_test)"
      ],
      "metadata": {
        "trusted": true,
        "execution": {
          "iopub.status.busy": "2025-05-04T04:35:49.994384Z",
          "iopub.execute_input": "2025-05-04T04:35:49.994672Z",
          "iopub.status.idle": "2025-05-04T04:36:03.542525Z",
          "shell.execute_reply.started": "2025-05-04T04:35:49.994651Z",
          "shell.execute_reply": "2025-05-04T04:36:03.541577Z"
        },
        "id": "I2oZvy5VnHWo"
      },
      "outputs": [],
      "execution_count": 9
    },
    {
      "cell_type": "code",
      "source": [
        "model = LogisticRegression()\n",
        "model.fit(X_train_tfidf, y_train)\n",
        "\n",
        "# Save model and vectorizer\n",
        "joblib.dump(model, 'fake_news_model.pkl')\n",
        "joblib.dump(vectorizer, 'tfidf_vectorizer.pkl')\n"
      ],
      "metadata": {
        "trusted": true,
        "execution": {
          "iopub.status.busy": "2025-05-04T04:36:03.543387Z",
          "iopub.execute_input": "2025-05-04T04:36:03.543651Z",
          "iopub.status.idle": "2025-05-04T04:36:06.917926Z",
          "shell.execute_reply.started": "2025-05-04T04:36:03.543632Z",
          "shell.execute_reply": "2025-05-04T04:36:06.91704Z"
        },
        "id": "wNlhF1iEnHWp",
        "outputId": "79038047-bb38-43b1-a9c8-95ff610a242e",
        "colab": {
          "base_uri": "https://localhost:8080/"
        }
      },
      "outputs": [
        {
          "output_type": "execute_result",
          "data": {
            "text/plain": [
              "['tfidf_vectorizer.pkl']"
            ]
          },
          "metadata": {},
          "execution_count": 10
        }
      ],
      "execution_count": 10
    },
    {
      "cell_type": "code",
      "source": [
        "y_pred = model.predict(X_test_tfidf)\n",
        "\n",
        "print(f\"Accuracy: {accuracy_score(y_test, y_pred)}\\n\")\n",
        "print(classification_report(y_test, y_pred))\n",
        "\n"
      ],
      "metadata": {
        "trusted": true,
        "execution": {
          "iopub.status.busy": "2025-05-04T04:36:06.918867Z",
          "iopub.execute_input": "2025-05-04T04:36:06.919167Z",
          "iopub.status.idle": "2025-05-04T04:36:06.950861Z",
          "shell.execute_reply.started": "2025-05-04T04:36:06.919137Z",
          "shell.execute_reply": "2025-05-04T04:36:06.950017Z"
        },
        "id": "0aGAYYWunHWp",
        "outputId": "59fae09b-691f-4128-f809-ea2e18b6df63",
        "colab": {
          "base_uri": "https://localhost:8080/"
        }
      },
      "outputs": [
        {
          "output_type": "stream",
          "name": "stdout",
          "text": [
            "Accuracy: 0.984966592427617\n",
            "\n",
            "              precision    recall  f1-score   support\n",
            "\n",
            "           0       0.99      0.98      0.99      4696\n",
            "           1       0.98      0.99      0.98      4284\n",
            "\n",
            "    accuracy                           0.98      8980\n",
            "   macro avg       0.98      0.99      0.98      8980\n",
            "weighted avg       0.98      0.98      0.98      8980\n",
            "\n"
          ]
        }
      ],
      "execution_count": 11
    },
    {
      "cell_type": "code",
      "source": [
        "import time\n",
        "\n",
        "# Simulate real-time predictions on 5 articles\n",
        "for i in range(5):\n",
        "    article = X_test.iloc[i]\n",
        "    label = y_test.iloc[i]\n",
        "    vec = vectorizer.transform([article])\n",
        "    pred = model.predict(vec)[0]\n",
        "\n",
        "    print(f\"\\nArticle {i+1}: {article[:200]}...\")\n",
        "    print(f\"Prediction: {'Real' if pred else 'Fake'} | Actual: {'Real' if label else 'Fake'}\")\n",
        "    time.sleep(1)  # optional delay for effect"
      ],
      "metadata": {
        "trusted": true,
        "execution": {
          "iopub.status.busy": "2025-05-04T04:36:06.953904Z",
          "iopub.execute_input": "2025-05-04T04:36:06.954178Z",
          "iopub.status.idle": "2025-05-04T04:36:11.97495Z",
          "shell.execute_reply.started": "2025-05-04T04:36:06.954157Z",
          "shell.execute_reply": "2025-05-04T04:36:11.974043Z"
        },
        "id": "FUSvoCX2nHWp",
        "outputId": "b1d3f273-8dd8-4a88-ead8-c5217abbf7cb",
        "colab": {
          "base_uri": "https://localhost:8080/"
        }
      },
      "outputs": [
        {
          "output_type": "stream",
          "name": "stdout",
          "text": [
            "\n",
            "Article 1: MANILA (Reuters) - A Filipino accused by the United States of being an Islamic State supporter involved in a foiled plot to mount gun and bomb attacks in the heart of New York City is a hospital docto...\n",
            "Prediction: Real | Actual: Real\n",
            "\n",
            "Article 2: NEW YORK (Reuters) - More Republicans now think Democrat Hillary Clinton, rather than Donald Trump, will win the presidency, as their party’s candidate struggles with difficulties including allegation...\n",
            "Prediction: Real | Actual: Real\n",
            "\n",
            "Article 3: Donald Trump on Wednesday slammed what he described as  thugs  and  criminals  who clashed with police outside an Albuquerque campaign event, just hours after police in riot gear and mounted patrol un...\n",
            "Prediction: Fake | Actual: Fake\n",
            "\n",
            "Article 4: ASTANA (Reuters) - Syrian groups who choose to boycott the Russia-sponsored national congress next month risk being sidelined as the political process moves ahead, Russian negotiator Alexander Lavrent...\n",
            "Prediction: Real | Actual: Real\n",
            "\n",
            "Article 5: NAIROBI (Reuters) - Burundi s main opposition grouping said it is boycotting peace talks that resumed on Tuesday in Tanzania, leaving little chance that the negotiations will end simmering political v...\n",
            "Prediction: Real | Actual: Real\n"
          ]
        }
      ],
      "execution_count": 12
    },
    {
      "cell_type": "code",
      "source": [
        "cm = confusion_matrix(y_test, y_pred)\n",
        "sns.heatmap(cm, annot=True, fmt=\"d\", cmap=\"Blues\", xticklabels=[\"Fake\", \"Real\"], yticklabels=[\"Fake\", \"Real\"])\n",
        "plt.xlabel(\"Predicted\")\n",
        "plt.ylabel(\"Actual\")\n",
        "plt.title(\"Confusion Matrix\")\n",
        "plt.show()"
      ],
      "metadata": {
        "trusted": true,
        "execution": {
          "iopub.status.busy": "2025-05-04T04:36:11.975884Z",
          "iopub.execute_input": "2025-05-04T04:36:11.976206Z",
          "iopub.status.idle": "2025-05-04T04:36:12.150857Z",
          "shell.execute_reply.started": "2025-05-04T04:36:11.976178Z",
          "shell.execute_reply": "2025-05-04T04:36:12.14992Z"
        },
        "id": "ijbiZcKwnHWq",
        "outputId": "89f678c0-1002-406e-f42e-356767f21377",
        "colab": {
          "base_uri": "https://localhost:8080/",
          "height": 472
        }
      },
      "outputs": [
        {
          "output_type": "display_data",
          "data": {
            "text/plain": [
              "<Figure size 640x480 with 2 Axes>"
            ],
            "image/png": "[encoded data removed]"
          },
          "metadata": {}
        }
      ],
      "execution_count": 13
    },
    {
      "cell_type": "code",
      "source": [
        "import pickle\n",
        "\n",
        "# Save model\n",
        "with open('fake_news_model.pkl', 'wb') as file:\n",
        "    pickle.dump(model, file)\n",
        "\n",
        "# Save vectorizer\n",
        "with open('tfidf_vectorizer.pkl', 'wb') as file:\n",
        "    pickle.dump(vectorizer, file)\n",
        ""
      ],
      "metadata": {
        "trusted": true,
        "execution": {
          "iopub.status.busy": "2025-05-04T04:36:12.151739Z",
          "iopub.execute_input": "2025-05-04T04:36:12.151983Z",
          "iopub.status.idle": "2025-05-04T04:36:12.196203Z",
          "shell.execute_reply.started": "2025-05-04T04:36:12.151965Z",
          "shell.execute_reply": "2025-05-04T04:36:12.19537Z"
        },
        "id": "M81_ufoBnHWq"
      },
      "outputs": [],
      "execution_count": 14
    },
    {
      "cell_type": "code",
      "source": [],
      "metadata": {
        "trusted": true,
        "id": "PgbirU9NnHWq"
      },
      "outputs": [],
      "execution_count": null
    },
    {
      "cell_type": "code",
      "source": [],
      "metadata": {
        "trusted": true,
        "id": "gvlhbtpEnHWq"
      },
      "outputs": [],
      "execution_count": null
    }
  ]
}