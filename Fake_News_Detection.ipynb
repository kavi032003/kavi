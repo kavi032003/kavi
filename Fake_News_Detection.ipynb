{
  "metadata": {
    "kernelspec": {
      "language": "python",
      "display_name": "Python 3",
      "name": "python3"
    },
    "language_info": {
      "name": "python",
      "version": "3.7.10",
      "mimetype": "text/x-python",
      "codemirror_mode": {
        "name": "ipython",
        "version": 3
      },
      "pygments_lexer": "ipython3",
      "nbconvert_exporter": "python",
      "file_extension": ".py"
    },
    "kaggle": {
      "accelerator": "none",
      "dataSources": [
        {
          "sourceId": 1550874,
          "sourceType": "datasetVersion",
          "datasetId": 915180
        }
      ],
      "dockerImageVersionId": 30120,
      "isInternetEnabled": true,
      "language": "python",
      "sourceType": "notebook",
      "isGpuEnabled": false
    },
    "colab": {
      "name": "Fake News Detection",
      "provenance": []
    }
  },
  "nbformat_minor": 0,
  "nbformat": 4,
  "cells": [
    {
      "source": [
        "# IMPORTANT: RUN THIS CELL IN ORDER TO IMPORT YOUR KAGGLE DATA SOURCES,\n",
        "# THEN FEEL FREE TO DELETE THIS CELL.\n",
        "# NOTE: THIS NOTEBOOK ENVIRONMENT DIFFERS FROM KAGGLE'S PYTHON\n",
        "# ENVIRONMENT SO THERE MAY BE MISSING LIBRARIES USED BY YOUR\n",
        "# NOTEBOOK.\n",
        "import kagglehub\n",
        "monal007_traindata_path = kagglehub.dataset_download('monal007/traindata')\n",
        "\n",
        "print('Data source import complete.')\n"
      ],
      "metadata": {
        "id": "LrpULFpXoIPV"
      },
      "cell_type": "code",
      "outputs": [],
      "execution_count": null
    },
    {
      "cell_type": "markdown",
      "source": [
        "# Fake News Detection using NLP"
      ],
      "metadata": {
        "id": "HIbF80l2oIPW"
      }
    },
    {
      "cell_type": "code",
      "source": [
        "# necessary imports\n",
        "\n",
        "import pandas as pd\n",
        "import numpy as np\n",
        "import matplotlib.pyplot as plt\n",
        "import seaborn as sns\n",
        "\n",
        "import warnings\n",
        "warnings.filterwarnings('ignore')\n",
        "\n",
        "import re\n",
        "\n",
        "import nltk\n",
        "nltk.download('stopwords')\n",
        "from nltk.stem.porter import PorterStemmer\n",
        "from nltk.corpus import stopwords\n",
        "\n",
        "plt.style.use('Solarize_Light2')\n",
        "%matplotlib inline"
      ],
      "metadata": {
        "execution": {
          "iopub.status.busy": "2025-05-08T06:31:54.550682Z",
          "iopub.execute_input": "2025-05-08T06:31:54.551232Z",
          "iopub.status.idle": "2025-05-08T06:31:56.470687Z",
          "shell.execute_reply.started": "2025-05-08T06:31:54.551103Z",
          "shell.execute_reply": "2025-05-08T06:31:56.469551Z"
        },
        "trusted": true,
        "id": "F8ajMDlToIPW",
        "outputId": "982baab5-362a-4636-c1db-e12a09a6f1dd"
      },
      "outputs": [
        {
          "name": "stdout",
          "text": "[nltk_data] Downloading package stopwords to /usr/share/nltk_data...\n[nltk_data]   Unzipping corpora/stopwords.zip.\n",
          "output_type": "stream"
        }
      ],
      "execution_count": null
    },
    {
      "cell_type": "code",
      "source": [
        "df = pd.read_csv('../input/traindata/train.csv') # loading data"
      ],
      "metadata": {
        "execution": {
          "iopub.status.busy": "2025-05-08T06:31:56.472427Z",
          "iopub.execute_input": "2025-05-08T06:31:56.472816Z",
          "iopub.status.idle": "2025-05-08T06:31:59.878886Z",
          "shell.execute_reply.started": "2025-05-08T06:31:56.472774Z",
          "shell.execute_reply": "2025-05-08T06:31:59.877761Z"
        },
        "trusted": true,
        "id": "PFYlIxMdoIPX"
      },
      "outputs": [],
      "execution_count": null
    },
    {
      "cell_type": "code",
      "source": [
        "df.head() # looking at first five rows of the data"
      ],
      "metadata": {
        "execution": {
          "iopub.status.busy": "2025-05-08T06:31:59.880921Z",
          "iopub.execute_input": "2025-05-08T06:31:59.881227Z",
          "iopub.status.idle": "2025-05-08T06:31:59.907862Z",
          "shell.execute_reply.started": "2025-05-08T06:31:59.881193Z",
          "shell.execute_reply": "2025-05-08T06:31:59.906819Z"
        },
        "trusted": true,
        "id": "S-TKgsXpoIPX",
        "outputId": "1cf39cc5-b03e-459d-82e4-15a08ce2836b"
      },
      "outputs": [
        {
          "execution_count": 3,
          "output_type": "execute_result",
          "data": {
            "text/plain": "   id                                              title              author  \\\n0   0  House Dem Aide: We Didn’t Even See Comey’s Let...       Darrell Lucus   \n1   1  FLYNN: Hillary Clinton, Big Woman on Campus - ...     Daniel J. Flynn   \n2   2                  Why the Truth Might Get You Fired  Consortiumnews.com   \n3   3  15 Civilians Killed In Single US Airstrike Hav...     Jessica Purkiss   \n4   4  Iranian woman jailed for fictional unpublished...      Howard Portnoy   \n\n                                                text  label  \n0  House Dem Aide: We Didn’t Even See Comey’s Let...      1  \n1  Ever get the feeling your life circles the rou...      0  \n2  Why the Truth Might Get You Fired October 29, ...      1  \n3  Videos 15 Civilians Killed In Single US Airstr...      1  \n4  Print \\nAn Iranian woman has been sentenced to...      1  ",
            "text/html": "<div>\n<style scoped>\n    .dataframe tbody tr th:only-of-type {\n        vertical-align: middle;\n    }\n\n    .dataframe tbody tr th {\n        vertical-align: top;\n    }\n\n    .dataframe thead th {\n        text-align: right;\n    }\n</style>\n<table border=\"1\" class=\"dataframe\">\n  <thead>\n    <tr style=\"text-align: right;\">\n      <th></th>\n      <th>id</th>\n      <th>title</th>\n      <th>author</th>\n      <th>text</th>\n      <th>label</th>\n    </tr>\n  </thead>\n  <tbody>\n    <tr>\n      <th>0</th>\n      <td>0</td>\n      <td>House Dem Aide: We Didn’t Even See Comey’s Let...</td>\n      <td>Darrell Lucus</td>\n      <td>House Dem Aide: We Didn’t Even See Comey’s Let...</td>\n      <td>1</td>\n    </tr>\n    <tr>\n      <th>1</th>\n      <td>1</td>\n      <td>FLYNN: Hillary Clinton, Big Woman on Campus - ...</td>\n      <td>Daniel J. Flynn</td>\n      <td>Ever get the feeling your life circles the rou...</td>\n      <td>0</td>\n    </tr>\n    <tr>\n      <th>2</th>\n      <td>2</td>\n      <td>Why the Truth Might Get You Fired</td>\n      <td>Consortiumnews.com</td>\n      <td>Why the Truth Might Get You Fired October 29, ...</td>\n      <td>1</td>\n    </tr>\n    <tr>\n      <th>3</th>\n      <td>3</td>\n      <td>15 Civilians Killed In Single US Airstrike Hav...</td>\n      <td>Jessica Purkiss</td>\n      <td>Videos 15 Civilians Killed In Single US Airstr...</td>\n      <td>1</td>\n    </tr>\n    <tr>\n      <th>4</th>\n      <td>4</td>\n      <td>Iranian woman jailed for fictional unpublished...</td>\n      <td>Howard Portnoy</td>\n      <td>Print \\nAn Iranian woman has been sentenced to...</td>\n      <td>1</td>\n    </tr>\n  </tbody>\n</table>\n</div>"
          },
          "metadata": {}
        }
      ],
      "execution_count": null
    },
    {
      "cell_type": "code",
      "source": [
        "df.shape # shape of data"
      ],
      "metadata": {
        "execution": {
          "iopub.status.busy": "2025-05-08T06:31:59.909651Z",
          "iopub.execute_input": "2025-05-08T06:31:59.909924Z",
          "iopub.status.idle": "2025-05-08T06:31:59.91635Z",
          "shell.execute_reply.started": "2025-05-08T06:31:59.909898Z",
          "shell.execute_reply": "2025-05-08T06:31:59.915386Z"
        },
        "trusted": true,
        "id": "buNNwGk7oIPX",
        "outputId": "c9ac29c8-ca24-4add-f951-2a53ca3d78a5"
      },
      "outputs": [
        {
          "execution_count": 4,
          "output_type": "execute_result",
          "data": {
            "text/plain": "(20800, 5)"
          },
          "metadata": {}
        }
      ],
      "execution_count": null
    },
    {
      "cell_type": "code",
      "source": [
        "df.isnull().sum() # checking for null values in data"
      ],
      "metadata": {
        "execution": {
          "iopub.status.busy": "2025-05-08T06:31:59.917774Z",
          "iopub.execute_input": "2025-05-08T06:31:59.918055Z",
          "iopub.status.idle": "2025-05-08T06:31:59.940581Z",
          "shell.execute_reply.started": "2025-05-08T06:31:59.918018Z",
          "shell.execute_reply": "2025-05-08T06:31:59.939397Z"
        },
        "trusted": true,
        "id": "eZHoLazdoIPY",
        "outputId": "a5f44d36-2a0e-4acf-fd18-942659f4a2fa"
      },
      "outputs": [
        {
          "execution_count": 5,
          "output_type": "execute_result",
          "data": {
            "text/plain": "id           0\ntitle      558\nauthor    1957\ntext        39\nlabel        0\ndtype: int64"
          },
          "metadata": {}
        }
      ],
      "execution_count": null
    },
    {
      "cell_type": "code",
      "source": [
        "# dropping missing values\n",
        "\n",
        "df.dropna(inplace = True)"
      ],
      "metadata": {
        "execution": {
          "iopub.status.busy": "2025-05-08T06:31:59.941891Z",
          "iopub.execute_input": "2025-05-08T06:31:59.942204Z",
          "iopub.status.idle": "2025-05-08T06:31:59.983775Z",
          "shell.execute_reply.started": "2025-05-08T06:31:59.942173Z",
          "shell.execute_reply": "2025-05-08T06:31:59.982827Z"
        },
        "trusted": true,
        "id": "KrRDI5S-oIPY"
      },
      "outputs": [],
      "execution_count": null
    },
    {
      "cell_type": "code",
      "source": [
        "df.isna().sum()"
      ],
      "metadata": {
        "execution": {
          "iopub.status.busy": "2025-05-08T06:31:59.984919Z",
          "iopub.execute_input": "2025-05-08T06:31:59.98519Z",
          "iopub.status.idle": "2025-05-08T06:32:00.001479Z",
          "shell.execute_reply.started": "2025-05-08T06:31:59.985165Z",
          "shell.execute_reply": "2025-05-08T06:31:59.99959Z"
        },
        "trusted": true,
        "id": "z0WC0TEyoIPY",
        "outputId": "8d88312d-ccaa-4905-8fc7-65234cf712fe"
      },
      "outputs": [
        {
          "execution_count": 7,
          "output_type": "execute_result",
          "data": {
            "text/plain": "id        0\ntitle     0\nauthor    0\ntext      0\nlabel     0\ndtype: int64"
          },
          "metadata": {}
        }
      ],
      "execution_count": null
    },
    {
      "cell_type": "code",
      "source": [
        "df.shape"
      ],
      "metadata": {
        "execution": {
          "iopub.status.busy": "2025-05-08T06:32:00.002801Z",
          "iopub.execute_input": "2025-05-08T06:32:00.003076Z",
          "iopub.status.idle": "2025-05-08T06:32:00.019323Z",
          "shell.execute_reply.started": "2025-05-08T06:32:00.003049Z",
          "shell.execute_reply": "2025-05-08T06:32:00.018203Z"
        },
        "trusted": true,
        "id": "96tCeIIPoIPY",
        "outputId": "01931ac2-bf96-4e0c-e6c5-ab2159bfb37a"
      },
      "outputs": [
        {
          "execution_count": 8,
          "output_type": "execute_result",
          "data": {
            "text/plain": "(18285, 5)"
          },
          "metadata": {}
        }
      ],
      "execution_count": null
    },
    {
      "cell_type": "code",
      "source": [
        "# checking distribution of data to see if there is any imbalancing present in the data.\n",
        "\n",
        "plt.figure(figsize = (9, 5))\n",
        "sns.countplot(df['label'])\n",
        "\n",
        "plt.show()"
      ],
      "metadata": {
        "execution": {
          "iopub.status.busy": "2025-05-08T06:32:00.022112Z",
          "iopub.execute_input": "2025-05-08T06:32:00.022544Z",
          "iopub.status.idle": "2025-05-08T06:32:00.181696Z",
          "shell.execute_reply.started": "2025-05-08T06:32:00.022485Z",
          "shell.execute_reply": "2025-05-08T06:32:00.18071Z"
        },
        "trusted": true,
        "id": "88fJdAOWoIPY",
        "outputId": "a4e21974-a015-4cdd-a68f-f5c79b07012d"
      },
      "outputs": [
        {
          "output_type": "display_data",
          "data": {
            "text/plain": "<Figure size 648x360 with 1 Axes>",
            "image/png": "[encoded data removed]"
          },
          "metadata": {
            "needs_background": "light"
          }
        }
      ],
      "execution_count": null
    },
    {
      "cell_type": "code",
      "source": [
        "df.dtypes # looking at data types of data"
      ],
      "metadata": {
        "execution": {
          "iopub.status.busy": "2025-05-08T06:32:00.183505Z",
          "iopub.execute_input": "2025-05-08T06:32:00.183807Z",
          "iopub.status.idle": "2025-05-08T06:32:00.190985Z",
          "shell.execute_reply.started": "2025-05-08T06:32:00.183777Z",
          "shell.execute_reply": "2025-05-08T06:32:00.189947Z"
        },
        "trusted": true,
        "id": "rG0e4YxhoIPY",
        "outputId": "6ae6420f-70e2-409b-9cf2-6c84aabdf4ee"
      },
      "outputs": [
        {
          "execution_count": 10,
          "output_type": "execute_result",
          "data": {
            "text/plain": "id         int64\ntitle     object\nauthor    object\ntext      object\nlabel      int64\ndtype: object"
          },
          "metadata": {}
        }
      ],
      "execution_count": null
    },
    {
      "cell_type": "code",
      "source": [
        "df['label'] = df['label'].astype(str)"
      ],
      "metadata": {
        "execution": {
          "iopub.status.busy": "2025-05-08T06:32:00.192547Z",
          "iopub.execute_input": "2025-05-08T06:32:00.192968Z",
          "iopub.status.idle": "2025-05-08T06:32:00.218851Z",
          "shell.execute_reply.started": "2025-05-08T06:32:00.192922Z",
          "shell.execute_reply": "2025-05-08T06:32:00.217719Z"
        },
        "trusted": true,
        "id": "p9Aq7ULmoIPY"
      },
      "outputs": [],
      "execution_count": null
    },
    {
      "cell_type": "code",
      "source": [
        "df.dtypes"
      ],
      "metadata": {
        "execution": {
          "iopub.status.busy": "2025-05-08T06:32:00.220199Z",
          "iopub.execute_input": "2025-05-08T06:32:00.220584Z",
          "iopub.status.idle": "2025-05-08T06:32:00.236638Z",
          "shell.execute_reply.started": "2025-05-08T06:32:00.22053Z",
          "shell.execute_reply": "2025-05-08T06:32:00.235508Z"
        },
        "trusted": true,
        "id": "97Ij--pIoIPY",
        "outputId": "8f0a342e-290a-4dcc-9a9d-fd9657b0d58c"
      },
      "outputs": [
        {
          "execution_count": 12,
          "output_type": "execute_result",
          "data": {
            "text/plain": "id         int64\ntitle     object\nauthor    object\ntext      object\nlabel     object\ndtype: object"
          },
          "metadata": {}
        }
      ],
      "execution_count": null
    },
    {
      "cell_type": "code",
      "source": [
        "df.head(10)"
      ],
      "metadata": {
        "execution": {
          "iopub.status.busy": "2025-05-08T06:32:00.237939Z",
          "iopub.execute_input": "2025-05-08T06:32:00.238283Z",
          "iopub.status.idle": "2025-05-08T06:32:00.257221Z",
          "shell.execute_reply.started": "2025-05-08T06:32:00.238236Z",
          "shell.execute_reply": "2025-05-08T06:32:00.255962Z"
        },
        "trusted": true,
        "id": "qxui1wAaoIPY",
        "outputId": "12c432c1-463c-4d46-aa84-96933e7d40e8"
      },
      "outputs": [
        {
          "execution_count": 13,
          "output_type": "execute_result",
          "data": {
            "text/plain": "    id                                              title  \\\n0    0  House Dem Aide: We Didn’t Even See Comey’s Let...   \n1    1  FLYNN: Hillary Clinton, Big Woman on Campus - ...   \n2    2                  Why the Truth Might Get You Fired   \n3    3  15 Civilians Killed In Single US Airstrike Hav...   \n4    4  Iranian woman jailed for fictional unpublished...   \n5    5  Jackie Mason: Hollywood Would Love Trump if He...   \n7    7  Benoît Hamon Wins French Socialist Party’s Pre...   \n9    9  A Back-Channel Plan for Ukraine and Russia, Co...   \n10  10  Obama’s Organizing for Action Partners with So...   \n11  11  BBC Comedy Sketch \"Real Housewives of ISIS\" Ca...   \n\n                          author  \\\n0                  Darrell Lucus   \n1                Daniel J. Flynn   \n2             Consortiumnews.com   \n3                Jessica Purkiss   \n4                 Howard Portnoy   \n5                Daniel Nussbaum   \n7                Alissa J. Rubin   \n9   Megan Twohey and Scott Shane   \n10                   Aaron Klein   \n11               Chris Tomlinson   \n\n                                                 text label  \n0   House Dem Aide: We Didn’t Even See Comey’s Let...     1  \n1   Ever get the feeling your life circles the rou...     0  \n2   Why the Truth Might Get You Fired October 29, ...     1  \n3   Videos 15 Civilians Killed In Single US Airstr...     1  \n4   Print \\nAn Iranian woman has been sentenced to...     1  \n5   In these trying times, Jackie Mason is the Voi...     0  \n7   PARIS  —   France chose an idealistic, traditi...     0  \n9   A week before Michael T. Flynn resigned as nat...     0  \n10  Organizing for Action, the activist group that...     0  \n11  The BBC produced spoof on the “Real Housewives...     0  ",
            "text/html": "<div>\n<style scoped>\n    .dataframe tbody tr th:only-of-type {\n        vertical-align: middle;\n    }\n\n    .dataframe tbody tr th {\n        vertical-align: top;\n    }\n\n    .dataframe thead th {\n        text-align: right;\n    }\n</style>\n<table border=\"1\" class=\"dataframe\">\n  <thead>\n    <tr style=\"text-align: right;\">\n      <th></th>\n      <th>id</th>\n      <th>title</th>\n      <th>author</th>\n      <th>text</th>\n      <th>label</th>\n    </tr>\n  </thead>\n  <tbody>\n    <tr>\n      <th>0</th>\n      <td>0</td>\n      <td>House Dem Aide: We Didn’t Even See Comey’s Let...</td>\n      <td>Darrell Lucus</td>\n      <td>House Dem Aide: We Didn’t Even See Comey’s Let...</td>\n      <td>1</td>\n    </tr>\n    <tr>\n      <th>1</th>\n      <td>1</td>\n      <td>FLYNN: Hillary Clinton, Big Woman on Campus - ...</td>\n      <td>Daniel J. Flynn</td>\n      <td>Ever get the feeling your life circles the rou...</td>\n      <td>0</td>\n    </tr>\n    <tr>\n      <th>2</th>\n      <td>2</td>\n      <td>Why the Truth Might Get You Fired</td>\n      <td>Consortiumnews.com</td>\n      <td>Why the Truth Might Get You Fired October 29, ...</td>\n      <td>1</td>\n    </tr>\n    <tr>\n      <th>3</th>\n      <td>3</td>\n      <td>15 Civilians Killed In Single US Airstrike Hav...</td>\n      <td>Jessica Purkiss</td>\n      <td>Videos 15 Civilians Killed In Single US Airstr...</td>\n      <td>1</td>\n    </tr>\n    <tr>\n      <th>4</th>\n      <td>4</td>\n      <td>Iranian woman jailed for fictional unpublished...</td>\n      <td>Howard Portnoy</td>\n      <td>Print \\nAn Iranian woman has been sentenced to...</td>\n      <td>1</td>\n    </tr>\n    <tr>\n      <th>5</th>\n      <td>5</td>\n      <td>Jackie Mason: Hollywood Would Love Trump if He...</td>\n      <td>Daniel Nussbaum</td>\n      <td>In these trying times, Jackie Mason is the Voi...</td>\n      <td>0</td>\n    </tr>\n    <tr>\n      <th>7</th>\n      <td>7</td>\n      <td>Benoît Hamon Wins French Socialist Party’s Pre...</td>\n      <td>Alissa J. Rubin</td>\n      <td>PARIS  —   France chose an idealistic, traditi...</td>\n      <td>0</td>\n    </tr>\n    <tr>\n      <th>9</th>\n      <td>9</td>\n      <td>A Back-Channel Plan for Ukraine and Russia, Co...</td>\n      <td>Megan Twohey and Scott Shane</td>\n      <td>A week before Michael T. Flynn resigned as nat...</td>\n      <td>0</td>\n    </tr>\n    <tr>\n      <th>10</th>\n      <td>10</td>\n      <td>Obama’s Organizing for Action Partners with So...</td>\n      <td>Aaron Klein</td>\n      <td>Organizing for Action, the activist group that...</td>\n      <td>0</td>\n    </tr>\n    <tr>\n      <th>11</th>\n      <td>11</td>\n      <td>BBC Comedy Sketch \"Real Housewives of ISIS\" Ca...</td>\n      <td>Chris Tomlinson</td>\n      <td>The BBC produced spoof on the “Real Housewives...</td>\n      <td>0</td>\n    </tr>\n  </tbody>\n</table>\n</div>"
          },
          "metadata": {}
        }
      ],
      "execution_count": null
    },
    {
      "cell_type": "code",
      "source": [
        "df.reset_index(inplace = True) # resetting the index of data"
      ],
      "metadata": {
        "execution": {
          "iopub.status.busy": "2025-05-08T06:32:00.259032Z",
          "iopub.execute_input": "2025-05-08T06:32:00.259508Z",
          "iopub.status.idle": "2025-05-08T06:32:00.271579Z",
          "shell.execute_reply.started": "2025-05-08T06:32:00.259463Z",
          "shell.execute_reply": "2025-05-08T06:32:00.270244Z"
        },
        "trusted": true,
        "id": "1zMbMw7koIPZ"
      },
      "outputs": [],
      "execution_count": null
    },
    {
      "cell_type": "code",
      "source": [
        "df.head(10)"
      ],
      "metadata": {
        "execution": {
          "iopub.status.busy": "2025-05-08T06:32:00.272925Z",
          "iopub.execute_input": "2025-05-08T06:32:00.273216Z",
          "iopub.status.idle": "2025-05-08T06:32:00.296098Z",
          "shell.execute_reply.started": "2025-05-08T06:32:00.273188Z",
          "shell.execute_reply": "2025-05-08T06:32:00.294964Z"
        },
        "trusted": true,
        "id": "vohyAWKUoIPZ",
        "outputId": "250a2b90-1742-4fa0-a2e4-3f3d2f44a65c"
      },
      "outputs": [
        {
          "execution_count": 15,
          "output_type": "execute_result",
          "data": {
            "text/plain": "   index  id                                              title  \\\n0      0   0  House Dem Aide: We Didn’t Even See Comey’s Let...   \n1      1   1  FLYNN: Hillary Clinton, Big Woman on Campus - ...   \n2      2   2                  Why the Truth Might Get You Fired   \n3      3   3  15 Civilians Killed In Single US Airstrike Hav...   \n4      4   4  Iranian woman jailed for fictional unpublished...   \n5      5   5  Jackie Mason: Hollywood Would Love Trump if He...   \n6      7   7  Benoît Hamon Wins French Socialist Party’s Pre...   \n7      9   9  A Back-Channel Plan for Ukraine and Russia, Co...   \n8     10  10  Obama’s Organizing for Action Partners with So...   \n9     11  11  BBC Comedy Sketch \"Real Housewives of ISIS\" Ca...   \n\n                         author  \\\n0                 Darrell Lucus   \n1               Daniel J. Flynn   \n2            Consortiumnews.com   \n3               Jessica Purkiss   \n4                Howard Portnoy   \n5               Daniel Nussbaum   \n6               Alissa J. Rubin   \n7  Megan Twohey and Scott Shane   \n8                   Aaron Klein   \n9               Chris Tomlinson   \n\n                                                text label  \n0  House Dem Aide: We Didn’t Even See Comey’s Let...     1  \n1  Ever get the feeling your life circles the rou...     0  \n2  Why the Truth Might Get You Fired October 29, ...     1  \n3  Videos 15 Civilians Killed In Single US Airstr...     1  \n4  Print \\nAn Iranian woman has been sentenced to...     1  \n5  In these trying times, Jackie Mason is the Voi...     0  \n6  PARIS  —   France chose an idealistic, traditi...     0  \n7  A week before Michael T. Flynn resigned as nat...     0  \n8  Organizing for Action, the activist group that...     0  \n9  The BBC produced spoof on the “Real Housewives...     0  ",
            "text/html": "<div>\n<style scoped>\n    .dataframe tbody tr th:only-of-type {\n        vertical-align: middle;\n    }\n\n    .dataframe tbody tr th {\n        vertical-align: top;\n    }\n\n    .dataframe thead th {\n        text-align: right;\n    }\n</style>\n<table border=\"1\" class=\"dataframe\">\n  <thead>\n    <tr style=\"text-align: right;\">\n      <th></th>\n      <th>index</th>\n      <th>id</th>\n      <th>title</th>\n      <th>author</th>\n      <th>text</th>\n      <th>label</th>\n    </tr>\n  </thead>\n  <tbody>\n    <tr>\n      <th>0</th>\n      <td>0</td>\n      <td>0</td>\n      <td>House Dem Aide: We Didn’t Even See Comey’s Let...</td>\n      <td>Darrell Lucus</td>\n      <td>House Dem Aide: We Didn’t Even See Comey’s Let...</td>\n      <td>1</td>\n    </tr>\n    <tr>\n      <th>1</th>\n      <td>1</td>\n      <td>1</td>\n      <td>FLYNN: Hillary Clinton, Big Woman on Campus - ...</td>\n      <td>Daniel J. Flynn</td>\n      <td>Ever get the feeling your life circles the rou...</td>\n      <td>0</td>\n    </tr>\n    <tr>\n      <th>2</th>\n      <td>2</td>\n      <td>2</td>\n      <td>Why the Truth Might Get You Fired</td>\n      <td>Consortiumnews.com</td>\n      <td>Why the Truth Might Get You Fired October 29, ...</td>\n      <td>1</td>\n    </tr>\n    <tr>\n      <th>3</th>\n      <td>3</td>\n      <td>3</td>\n      <td>15 Civilians Killed In Single US Airstrike Hav...</td>\n      <td>Jessica Purkiss</td>\n      <td>Videos 15 Civilians Killed In Single US Airstr...</td>\n      <td>1</td>\n    </tr>\n    <tr>\n      <th>4</th>\n      <td>4</td>\n      <td>4</td>\n      <td>Iranian woman jailed for fictional unpublished...</td>\n      <td>Howard Portnoy</td>\n      <td>Print \\nAn Iranian woman has been sentenced to...</td>\n      <td>1</td>\n    </tr>\n    <tr>\n      <th>5</th>\n      <td>5</td>\n      <td>5</td>\n      <td>Jackie Mason: Hollywood Would Love Trump if He...</td>\n      <td>Daniel Nussbaum</td>\n      <td>In these trying times, Jackie Mason is the Voi...</td>\n      <td>0</td>\n    </tr>\n    <tr>\n      <th>6</th>\n      <td>7</td>\n      <td>7</td>\n      <td>Benoît Hamon Wins French Socialist Party’s Pre...</td>\n      <td>Alissa J. Rubin</td>\n      <td>PARIS  —   France chose an idealistic, traditi...</td>\n      <td>0</td>\n    </tr>\n    <tr>\n      <th>7</th>\n      <td>9</td>\n      <td>9</td>\n      <td>A Back-Channel Plan for Ukraine and Russia, Co...</td>\n      <td>Megan Twohey and Scott Shane</td>\n      <td>A week before Michael T. Flynn resigned as nat...</td>\n      <td>0</td>\n    </tr>\n    <tr>\n      <th>8</th>\n      <td>10</td>\n      <td>10</td>\n      <td>Obama’s Organizing for Action Partners with So...</td>\n      <td>Aaron Klein</td>\n      <td>Organizing for Action, the activist group that...</td>\n      <td>0</td>\n    </tr>\n    <tr>\n      <th>9</th>\n      <td>11</td>\n      <td>11</td>\n      <td>BBC Comedy Sketch \"Real Housewives of ISIS\" Ca...</td>\n      <td>Chris Tomlinson</td>\n      <td>The BBC produced spoof on the “Real Housewives...</td>\n      <td>0</td>\n    </tr>\n  </tbody>\n</table>\n</div>"
          },
          "metadata": {}
        }
      ],
      "execution_count": null
    },
    {
      "cell_type": "code",
      "source": [
        "df.drop(['index','id'],axis=1,inplace=True) # dropping 'index' and 'id' columns"
      ],
      "metadata": {
        "execution": {
          "iopub.status.busy": "2025-05-08T06:32:00.297603Z",
          "iopub.execute_input": "2025-05-08T06:32:00.29792Z",
          "iopub.status.idle": "2025-05-08T06:32:00.314667Z",
          "shell.execute_reply.started": "2025-05-08T06:32:00.29789Z",
          "shell.execute_reply": "2025-05-08T06:32:00.313051Z"
        },
        "trusted": true,
        "id": "-k2DEtbaoIPZ"
      },
      "outputs": [],
      "execution_count": null
    },
    {
      "cell_type": "code",
      "source": [
        "df.head()"
      ],
      "metadata": {
        "execution": {
          "iopub.status.busy": "2025-05-08T06:32:00.316477Z",
          "iopub.execute_input": "2025-05-08T06:32:00.316931Z",
          "iopub.status.idle": "2025-05-08T06:32:00.330677Z",
          "shell.execute_reply.started": "2025-05-08T06:32:00.316896Z",
          "shell.execute_reply": "2025-05-08T06:32:00.329593Z"
        },
        "trusted": true,
        "id": "Z3URC-jOoIPZ",
        "outputId": "5fa6b33c-b514-4baf-caa5-2e6e00ae38a9"
      },
      "outputs": [
        {
          "execution_count": 17,
          "output_type": "execute_result",
          "data": {
            "text/plain": "                                               title              author  \\\n0  House Dem Aide: We Didn’t Even See Comey’s Let...       Darrell Lucus   \n1  FLYNN: Hillary Clinton, Big Woman on Campus - ...     Daniel J. Flynn   \n2                  Why the Truth Might Get You Fired  Consortiumnews.com   \n3  15 Civilians Killed In Single US Airstrike Hav...     Jessica Purkiss   \n4  Iranian woman jailed for fictional unpublished...      Howard Portnoy   \n\n                                                text label  \n0  House Dem Aide: We Didn’t Even See Comey’s Let...     1  \n1  Ever get the feeling your life circles the rou...     0  \n2  Why the Truth Might Get You Fired October 29, ...     1  \n3  Videos 15 Civilians Killed In Single US Airstr...     1  \n4  Print \\nAn Iranian woman has been sentenced to...     1  ",
            "text/html": "<div>\n<style scoped>\n    .dataframe tbody tr th:only-of-type {\n        vertical-align: middle;\n    }\n\n    .dataframe tbody tr th {\n        vertical-align: top;\n    }\n\n    .dataframe thead th {\n        text-align: right;\n    }\n</style>\n<table border=\"1\" class=\"dataframe\">\n  <thead>\n    <tr style=\"text-align: right;\">\n      <th></th>\n      <th>title</th>\n      <th>author</th>\n      <th>text</th>\n      <th>label</th>\n    </tr>\n  </thead>\n  <tbody>\n    <tr>\n      <th>0</th>\n      <td>House Dem Aide: We Didn’t Even See Comey’s Let...</td>\n      <td>Darrell Lucus</td>\n      <td>House Dem Aide: We Didn’t Even See Comey’s Let...</td>\n      <td>1</td>\n    </tr>\n    <tr>\n      <th>1</th>\n      <td>FLYNN: Hillary Clinton, Big Woman on Campus - ...</td>\n      <td>Daniel J. Flynn</td>\n      <td>Ever get the feeling your life circles the rou...</td>\n      <td>0</td>\n    </tr>\n    <tr>\n      <th>2</th>\n      <td>Why the Truth Might Get You Fired</td>\n      <td>Consortiumnews.com</td>\n      <td>Why the Truth Might Get You Fired October 29, ...</td>\n      <td>1</td>\n    </tr>\n    <tr>\n      <th>3</th>\n      <td>15 Civilians Killed In Single US Airstrike Hav...</td>\n      <td>Jessica Purkiss</td>\n      <td>Videos 15 Civilians Killed In Single US Airstr...</td>\n      <td>1</td>\n    </tr>\n    <tr>\n      <th>4</th>\n      <td>Iranian woman jailed for fictional unpublished...</td>\n      <td>Howard Portnoy</td>\n      <td>Print \\nAn Iranian woman has been sentenced to...</td>\n      <td>1</td>\n    </tr>\n  </tbody>\n</table>\n</div>"
          },
          "metadata": {}
        }
      ],
      "execution_count": null
    },
    {
      "cell_type": "code",
      "source": [
        "ps = PorterStemmer() # initializing porter stemmer"
      ],
      "metadata": {
        "execution": {
          "iopub.status.busy": "2025-05-08T06:32:00.332088Z",
          "iopub.execute_input": "2025-05-08T06:32:00.332496Z",
          "iopub.status.idle": "2025-05-08T06:32:00.341738Z",
          "shell.execute_reply.started": "2025-05-08T06:32:00.332462Z",
          "shell.execute_reply": "2025-05-08T06:32:00.34052Z"
        },
        "trusted": true,
        "id": "pAGRO0WLoIPZ"
      },
      "outputs": [],
      "execution_count": null
    },
    {
      "cell_type": "code",
      "source": [
        "corpus=[]\n",
        "sentences=[]\n",
        "for i in range(0,len(df)):\n",
        "    review=re.sub('[^a-zA-Z]',' ', df['title'][i])\n",
        "    review=review.lower()\n",
        "    list=review.split()\n",
        "    review=[ps.stem(word) for word in list if word not in set(stopwords.words('english'))]\n",
        "    sentences=' '.join(review)\n",
        "    corpus.append(sentences)"
      ],
      "metadata": {
        "execution": {
          "iopub.status.busy": "2025-05-08T06:32:00.34317Z",
          "iopub.execute_input": "2025-05-08T06:32:00.34362Z",
          "iopub.status.idle": "2025-05-08T06:32:39.432397Z",
          "shell.execute_reply.started": "2025-05-08T06:32:00.343573Z",
          "shell.execute_reply": "2025-05-08T06:32:39.431256Z"
        },
        "trusted": true,
        "id": "l4SB-t2yoIPZ"
      },
      "outputs": [],
      "execution_count": null
    },
    {
      "cell_type": "code",
      "source": [
        "corpus[0]"
      ],
      "metadata": {
        "execution": {
          "iopub.status.busy": "2025-05-08T06:32:39.43396Z",
          "iopub.execute_input": "2025-05-08T06:32:39.434379Z",
          "iopub.status.idle": "2025-05-08T06:32:39.44052Z",
          "shell.execute_reply.started": "2025-05-08T06:32:39.434333Z",
          "shell.execute_reply": "2025-05-08T06:32:39.439514Z"
        },
        "trusted": true,
        "id": "D2n86BuzoIPZ",
        "outputId": "7eb64872-498c-4e2e-b310-70cbed9d44d7"
      },
      "outputs": [
        {
          "execution_count": 20,
          "output_type": "execute_result",
          "data": {
            "text/plain": "'hous dem aid even see comey letter jason chaffetz tweet'"
          },
          "metadata": {}
        }
      ],
      "execution_count": null
    },
    {
      "cell_type": "code",
      "source": [
        "corpus[:20]"
      ],
      "metadata": {
        "execution": {
          "iopub.status.busy": "2025-05-08T06:32:39.441912Z",
          "iopub.execute_input": "2025-05-08T06:32:39.442205Z",
          "iopub.status.idle": "2025-05-08T06:32:39.457532Z",
          "shell.execute_reply.started": "2025-05-08T06:32:39.442176Z",
          "shell.execute_reply": "2025-05-08T06:32:39.456468Z"
        },
        "trusted": true,
        "id": "cKNMFA-2oIPZ",
        "outputId": "6ec98d7e-85e2-498d-9ba2-db83fd5374a0"
      },
      "outputs": [
        {
          "execution_count": 21,
          "output_type": "execute_result",
          "data": {
            "text/plain": "['hous dem aid even see comey letter jason chaffetz tweet',\n 'flynn hillari clinton big woman campu breitbart',\n 'truth might get fire',\n 'civilian kill singl us airstrik identifi',\n 'iranian woman jail fiction unpublish stori woman stone death adulteri',\n 'jacki mason hollywood would love trump bomb north korea lack tran bathroom exclus video breitbart',\n 'beno hamon win french socialist parti presidenti nomin new york time',\n 'back channel plan ukrain russia courtesi trump associ new york time',\n 'obama organ action partner soro link indivis disrupt trump agenda',\n 'bbc comedi sketch real housew isi caus outrag',\n 'russian research discov secret nazi militari base treasur hunter arctic photo',\n 'us offici see link trump russia',\n 'ye paid govern troll social media blog forum websit',\n 'major leagu soccer argentin find home success new york time',\n 'well fargo chief abruptli step new york time',\n 'anonym donor pay million releas everyon arrest dakota access pipelin',\n 'fbi close hillari',\n 'chuck todd buzzfe donald trump polit favor breitbart',\n 'monica lewinski clinton sex scandal set american crime stori',\n 'rob reiner trump mental unstabl breitbart']"
          },
          "metadata": {}
        }
      ],
      "execution_count": null
    },
    {
      "cell_type": "code",
      "source": [
        "from sklearn.feature_extraction.text import CountVectorizer\n",
        "\n",
        "cv = CountVectorizer(max_features = 5000, ngram_range = (1, 3))"
      ],
      "metadata": {
        "execution": {
          "iopub.status.busy": "2025-05-08T06:32:39.459105Z",
          "iopub.execute_input": "2025-05-08T06:32:39.45955Z",
          "iopub.status.idle": "2025-05-08T06:32:39.472775Z",
          "shell.execute_reply.started": "2025-05-08T06:32:39.459509Z",
          "shell.execute_reply": "2025-05-08T06:32:39.471656Z"
        },
        "trusted": true,
        "id": "ryoh5gv-oIPZ"
      },
      "outputs": [],
      "execution_count": null
    },
    {
      "cell_type": "code",
      "source": [
        "# splitting dataset into features and label\n",
        "\n",
        "X = cv.fit_transform(corpus).toarray()\n",
        "y = df['label']"
      ],
      "metadata": {
        "execution": {
          "iopub.status.busy": "2025-05-08T06:32:39.474259Z",
          "iopub.execute_input": "2025-05-08T06:32:39.474586Z",
          "iopub.status.idle": "2025-05-08T06:32:41.100589Z",
          "shell.execute_reply.started": "2025-05-08T06:32:39.474557Z",
          "shell.execute_reply": "2025-05-08T06:32:41.099631Z"
        },
        "trusted": true,
        "id": "YkNZzRKVoIPZ"
      },
      "outputs": [],
      "execution_count": null
    },
    {
      "cell_type": "code",
      "source": [
        "X, y"
      ],
      "metadata": {
        "execution": {
          "iopub.status.busy": "2025-05-08T06:32:41.101775Z",
          "iopub.execute_input": "2025-05-08T06:32:41.102057Z",
          "iopub.status.idle": "2025-05-08T06:32:41.110262Z",
          "shell.execute_reply.started": "2025-05-08T06:32:41.102029Z",
          "shell.execute_reply": "2025-05-08T06:32:41.109196Z"
        },
        "trusted": true,
        "id": "ILqdN_61oIPZ",
        "outputId": "09b805f1-caf8-4257-beea-fb5304556e52"
      },
      "outputs": [
        {
          "execution_count": 24,
          "output_type": "execute_result",
          "data": {
            "text/plain": "(array([[0, 0, 0, ..., 0, 0, 0],\n        [0, 0, 0, ..., 0, 0, 0],\n        [0, 0, 0, ..., 0, 0, 0],\n        ...,\n        [0, 0, 0, ..., 0, 0, 0],\n        [0, 0, 0, ..., 0, 0, 0],\n        [0, 0, 0, ..., 0, 0, 0]]),\n 0        1\n 1        0\n 2        1\n 3        1\n 4        1\n         ..\n 18280    0\n 18281    0\n 18282    0\n 18283    1\n 18284    1\n Name: label, Length: 18285, dtype: object)"
          },
          "metadata": {}
        }
      ],
      "execution_count": null
    },
    {
      "cell_type": "code",
      "source": [
        "X.shape, y.shape"
      ],
      "metadata": {
        "execution": {
          "iopub.status.busy": "2025-05-08T06:32:41.111661Z",
          "iopub.execute_input": "2025-05-08T06:32:41.111965Z",
          "iopub.status.idle": "2025-05-08T06:32:41.124395Z",
          "shell.execute_reply.started": "2025-05-08T06:32:41.111935Z",
          "shell.execute_reply": "2025-05-08T06:32:41.123274Z"
        },
        "trusted": true,
        "id": "I4zIyLI5oIPZ",
        "outputId": "5d47cbe4-9528-4354-bf32-794a483517a2"
      },
      "outputs": [
        {
          "execution_count": 25,
          "output_type": "execute_result",
          "data": {
            "text/plain": "((18285, 5000), (18285,))"
          },
          "metadata": {}
        }
      ],
      "execution_count": null
    },
    {
      "cell_type": "code",
      "source": [
        "cv.get_feature_names()[0:20]"
      ],
      "metadata": {
        "execution": {
          "iopub.status.busy": "2025-05-08T06:32:41.125703Z",
          "iopub.execute_input": "2025-05-08T06:32:41.125981Z",
          "iopub.status.idle": "2025-05-08T06:32:41.145695Z",
          "shell.execute_reply.started": "2025-05-08T06:32:41.125953Z",
          "shell.execute_reply": "2025-05-08T06:32:41.144727Z"
        },
        "trusted": true,
        "id": "6SrRoCSPoIPZ",
        "outputId": "47e7ede1-cf98-40aa-e276-9068f30f493c"
      },
      "outputs": [
        {
          "execution_count": 26,
          "output_type": "execute_result",
          "data": {
            "text/plain": "['abandon',\n 'abc',\n 'abc news',\n 'abduct',\n 'abe',\n 'abedin',\n 'abl',\n 'abort',\n 'abroad',\n 'absolut',\n 'abstain',\n 'absurd',\n 'abus',\n 'abus new',\n 'abus new york',\n 'academi',\n 'accept',\n 'access',\n 'access pipelin',\n 'access pipelin protest']"
          },
          "metadata": {}
        }
      ],
      "execution_count": null
    },
    {
      "cell_type": "code",
      "source": [
        "# splitting dataset into train data and test data\n",
        "\n",
        "from sklearn.model_selection import train_test_split\n",
        "\n",
        "X_train, X_test, y_train, y_test = train_test_split(X, y, test_size = 0.25)"
      ],
      "metadata": {
        "execution": {
          "iopub.status.busy": "2025-05-08T06:32:41.148913Z",
          "iopub.execute_input": "2025-05-08T06:32:41.149214Z",
          "iopub.status.idle": "2025-05-08T06:32:41.594684Z",
          "shell.execute_reply.started": "2025-05-08T06:32:41.149184Z",
          "shell.execute_reply": "2025-05-08T06:32:41.593698Z"
        },
        "trusted": true,
        "id": "flFVaI3poIPZ"
      },
      "outputs": [],
      "execution_count": null
    },
    {
      "cell_type": "markdown",
      "source": [
        "## Naive Bayes"
      ],
      "metadata": {
        "id": "nYQO8tCYoIPZ"
      }
    },
    {
      "cell_type": "code",
      "source": [
        "from sklearn.naive_bayes import MultinomialNB\n",
        "\n",
        "classifier = MultinomialNB()\n",
        "classifier.fit(X_train, y_train)"
      ],
      "metadata": {
        "execution": {
          "iopub.status.busy": "2025-05-08T06:32:41.596354Z",
          "iopub.execute_input": "2025-05-08T06:32:41.596674Z",
          "iopub.status.idle": "2025-05-08T06:32:42.217673Z",
          "shell.execute_reply.started": "2025-05-08T06:32:41.596646Z",
          "shell.execute_reply": "2025-05-08T06:32:42.216446Z"
        },
        "trusted": true,
        "id": "31KcnqdZoIPa",
        "outputId": "32650c6b-2137-43d7-95e2-738be82c3c33"
      },
      "outputs": [
        {
          "execution_count": 28,
          "output_type": "execute_result",
          "data": {
            "text/plain": "MultinomialNB()"
          },
          "metadata": {}
        }
      ],
      "execution_count": null
    },
    {
      "cell_type": "code",
      "source": [
        "y_pred = classifier.predict(X_test)\n",
        "y_pred"
      ],
      "metadata": {
        "execution": {
          "iopub.status.busy": "2025-05-08T06:32:42.219051Z",
          "iopub.execute_input": "2025-05-08T06:32:42.219376Z",
          "iopub.status.idle": "2025-05-08T06:32:42.336501Z",
          "shell.execute_reply.started": "2025-05-08T06:32:42.219335Z",
          "shell.execute_reply": "2025-05-08T06:32:42.33372Z"
        },
        "trusted": true,
        "id": "9VyVFd5JoIPa",
        "outputId": "3c701cae-1147-4d5a-925c-2687c1d14ca3"
      },
      "outputs": [
        {
          "execution_count": 29,
          "output_type": "execute_result",
          "data": {
            "text/plain": "array(['1', '1', '1', ..., '1', '1', '0'], dtype='<U1')"
          },
          "metadata": {}
        }
      ],
      "execution_count": null
    },
    {
      "cell_type": "code",
      "source": [
        "from sklearn import metrics\n",
        "\n",
        "metrics.accuracy_score(y_test, y_pred)"
      ],
      "metadata": {
        "execution": {
          "iopub.status.busy": "2025-05-08T06:32:42.338357Z",
          "iopub.execute_input": "2025-05-08T06:32:42.338936Z",
          "iopub.status.idle": "2025-05-08T06:32:42.379459Z",
          "shell.execute_reply.started": "2025-05-08T06:32:42.33888Z",
          "shell.execute_reply": "2025-05-08T06:32:42.378104Z"
        },
        "trusted": true,
        "id": "YwG_K9HnoIPa",
        "outputId": "4d0c3397-3fa2-4aae-ca2b-32c039b73011"
      },
      "outputs": [
        {
          "execution_count": 30,
          "output_type": "execute_result",
          "data": {
            "text/plain": "0.902668416447944"
          },
          "metadata": {}
        }
      ],
      "execution_count": null
    },
    {
      "cell_type": "code",
      "source": [
        "# confusion matrix function\n",
        "\n",
        "def plot_confusion_matrix(cm):\n",
        "    plt.imshow(cm,interpolation='nearest',cmap=plt.cm.Blues)\n",
        "    plt.colorbar()\n",
        "    plt.title('Confusion Matrix')\n",
        "    labels=['positive','negative']\n",
        "    tick_marks=np.arange(len(labels))\n",
        "    plt.xticks(tick_marks,labels)\n",
        "    plt.yticks(tick_marks,labels)"
      ],
      "metadata": {
        "execution": {
          "iopub.status.busy": "2025-05-08T06:32:42.381349Z",
          "iopub.execute_input": "2025-05-08T06:32:42.381905Z",
          "iopub.status.idle": "2025-05-08T06:32:42.392001Z",
          "shell.execute_reply.started": "2025-05-08T06:32:42.381851Z",
          "shell.execute_reply": "2025-05-08T06:32:42.3906Z"
        },
        "trusted": true,
        "id": "vcn6MI1doIPa"
      },
      "outputs": [],
      "execution_count": null
    },
    {
      "cell_type": "code",
      "source": [
        "cm = metrics.confusion_matrix(y_test, y_pred)\n",
        "plot_confusion_matrix(cm)"
      ],
      "metadata": {
        "execution": {
          "iopub.status.busy": "2025-05-08T06:32:42.393751Z",
          "iopub.execute_input": "2025-05-08T06:32:42.394273Z",
          "iopub.status.idle": "2025-05-08T06:32:42.635807Z",
          "shell.execute_reply.started": "2025-05-08T06:32:42.394217Z",
          "shell.execute_reply": "2025-05-08T06:32:42.634726Z"
        },
        "trusted": true,
        "id": "Xy_m1XqIoIPa",
        "outputId": "eeef5698-b98b-4a03-d3a3-38e5da468965"
      },
      "outputs": [
        {
          "output_type": "display_data",
          "data": {
            "text/plain": "<Figure size 432x288 with 2 Axes>",
            "image/png": "[encoded data removed]"
          },
          "metadata": {
            "needs_background": "light"
          }
        }
      ],
      "execution_count": null
    },
    {
      "cell_type": "markdown",
      "source": [
        "## Passive Aggressive Classifier Algorithm"
      ],
      "metadata": {
        "id": "IWd8BWnIoIPa"
      }
    },
    {
      "cell_type": "code",
      "source": [
        "from sklearn.linear_model import PassiveAggressiveClassifier\n",
        "\n",
        "linear_clf = PassiveAggressiveClassifier()\n",
        "linear_clf.fit(X_train, y_train)"
      ],
      "metadata": {
        "execution": {
          "iopub.status.busy": "2025-05-08T06:32:42.637061Z",
          "iopub.execute_input": "2025-05-08T06:32:42.637385Z",
          "iopub.status.idle": "2025-05-08T06:32:51.320285Z",
          "shell.execute_reply.started": "2025-05-08T06:32:42.63735Z",
          "shell.execute_reply": "2025-05-08T06:32:51.319202Z"
        },
        "trusted": true,
        "id": "8RHrNdZ3oIPa",
        "outputId": "dfec98c4-7fe2-4b0d-c93f-3bf43dd3d5e5"
      },
      "outputs": [
        {
          "execution_count": 33,
          "output_type": "execute_result",
          "data": {
            "text/plain": "PassiveAggressiveClassifier()"
          },
          "metadata": {}
        }
      ],
      "execution_count": null
    },
    {
      "cell_type": "code",
      "source": [
        "y_pred = linear_clf.predict(X_test)"
      ],
      "metadata": {
        "execution": {
          "iopub.status.busy": "2025-05-08T06:32:51.3217Z",
          "iopub.execute_input": "2025-05-08T06:32:51.322Z",
          "iopub.status.idle": "2025-05-08T06:32:51.399559Z",
          "shell.execute_reply.started": "2025-05-08T06:32:51.32197Z",
          "shell.execute_reply": "2025-05-08T06:32:51.398208Z"
        },
        "trusted": true,
        "id": "v0DOTUT4oIPa"
      },
      "outputs": [],
      "execution_count": null
    },
    {
      "cell_type": "code",
      "source": [
        "metrics.accuracy_score(y_test,y_pred)"
      ],
      "metadata": {
        "execution": {
          "iopub.status.busy": "2025-05-08T06:32:51.401244Z",
          "iopub.execute_input": "2025-05-08T06:32:51.401793Z",
          "iopub.status.idle": "2025-05-08T06:32:51.443528Z",
          "shell.execute_reply.started": "2025-05-08T06:32:51.40174Z",
          "shell.execute_reply": "2025-05-08T06:32:51.442151Z"
        },
        "trusted": true,
        "id": "ljJpI05uoIPa",
        "outputId": "ef56ba32-a0d0-403a-9be3-4ea5cc7fb30b"
      },
      "outputs": [
        {
          "execution_count": 35,
          "output_type": "execute_result",
          "data": {
            "text/plain": "0.9221347331583553"
          },
          "metadata": {}
        }
      ],
      "execution_count": null
    },
    {
      "cell_type": "code",
      "source": [
        "cm2 = metrics.confusion_matrix(y_test,y_pred)\n",
        "plot_confusion_matrix(cm2)"
      ],
      "metadata": {
        "execution": {
          "iopub.status.busy": "2025-05-08T06:32:51.445179Z",
          "iopub.execute_input": "2025-05-08T06:32:51.44571Z",
          "iopub.status.idle": "2025-05-08T06:32:51.693464Z",
          "shell.execute_reply.started": "2025-05-08T06:32:51.445649Z",
          "shell.execute_reply": "2025-05-08T06:32:51.692444Z"
        },
        "trusted": true,
        "id": "TS5Dx2N7oIPa",
        "outputId": "e47d46e9-eb63-4c02-eab8-c2e75a1afe4e"
      },
      "outputs": [
        {
          "output_type": "display_data",
          "data": {
            "text/plain": "<Figure size 432x288 with 2 Axes>",
            "image/png": "[encoded data removed]"
          },
          "metadata": {
            "needs_background": "light"
          }
        }
      ],
      "execution_count": null
    },
    {
      "cell_type": "code",
      "source": [
        "### Most 20 real values\n",
        "\n",
        "feature_names = cv.get_feature_names()\n",
        "sorted(zip(classifier.coef_[0],feature_names),reverse=True)[0:20]"
      ],
      "metadata": {
        "execution": {
          "iopub.status.busy": "2025-05-08T06:32:51.695132Z",
          "iopub.execute_input": "2025-05-08T06:32:51.695572Z",
          "iopub.status.idle": "2025-05-08T06:32:51.714325Z",
          "shell.execute_reply.started": "2025-05-08T06:32:51.695529Z",
          "shell.execute_reply": "2025-05-08T06:32:51.713046Z"
        },
        "trusted": true,
        "id": "6vsatxQnoIPa",
        "outputId": "dfaf8df8-57d2-498a-bdf4-882dc03a2618"
      },
      "outputs": [
        {
          "execution_count": 37,
          "output_type": "execute_result",
          "data": {
            "text/plain": "[(-3.9789970827794523, 'trump'),\n (-4.278773860114578, 'hillari'),\n (-4.404330394104342, 'clinton'),\n (-4.876342728411157, 'elect'),\n (-5.210672489654724, 'new'),\n (-5.26849206054355, 'comment'),\n (-5.280468251590266, 'video'),\n (-5.304859704714425, 'us'),\n (-5.359841839131778, 'war'),\n (-5.441334873382961, 'hillari clinton'),\n (-5.441334873382961, 'fbi'),\n (-5.504616323330481, 'email'),\n (-5.514717419316985, 'vote'),\n (-5.577565322976649, 'obama'),\n (-5.638865848840444, 'world'),\n (-5.704170947248211, 'donald'),\n (-5.729016945834742, 'russia'),\n (-5.735326115028006, 'donald trump'),\n (-5.807488561276237, 'day'),\n (-5.835076517795066, 'america')]"
          },
          "metadata": {}
        }
      ],
      "execution_count": null
    },
    {
      "cell_type": "code",
      "source": [
        "### Most 20 fake values\n",
        "\n",
        "feature_names = cv.get_feature_names()\n",
        "sorted(zip(classifier.coef_[0],feature_names),reverse=True)[-20:]"
      ],
      "metadata": {
        "execution": {
          "iopub.status.busy": "2025-05-08T06:32:51.715489Z",
          "iopub.execute_input": "2025-05-08T06:32:51.715807Z",
          "iopub.status.idle": "2025-05-08T06:32:51.737513Z",
          "shell.execute_reply.started": "2025-05-08T06:32:51.715778Z",
          "shell.execute_reply": "2025-05-08T06:32:51.736505Z"
        },
        "trusted": true,
        "id": "WLBfjmUsoIPb",
        "outputId": "689cc54a-417a-4e66-fbb4-b44aa23a6381"
      },
      "outputs": [
        {
          "execution_count": 38,
          "output_type": "execute_result",
          "data": {
            "text/plain": "[(-10.797921148054973, 'america new york'),\n (-10.797921148054973, 'america breitbart'),\n (-10.797921148054973, 'ali'),\n (-10.797921148054973, 'aleppo new york'),\n (-10.797921148054973, 'aleppo new'),\n (-10.797921148054973, 'airlin'),\n (-10.797921148054973, 'agenda breitbart'),\n (-10.797921148054973, 'age new york'),\n (-10.797921148054973, 'age new'),\n (-10.797921148054973, 'advis new york'),\n (-10.797921148054973, 'advis new'),\n (-10.797921148054973, 'advic'),\n (-10.797921148054973, 'adopt'),\n (-10.797921148054973, 'act new york'),\n (-10.797921148054973, 'act new'),\n (-10.797921148054973, 'aclu'),\n (-10.797921148054973, 'academi'),\n (-10.797921148054973, 'abus new york'),\n (-10.797921148054973, 'abus new'),\n (-10.797921148054973, 'abroad')]"
          },
          "metadata": {}
        }
      ],
      "execution_count": null
    },
    {
      "cell_type": "markdown",
      "source": [
        "### Thanks for reading, Please do Upvote !!"
      ],
      "metadata": {
        "id": "Y9mlgaTKoIPb"
      }
    },
    {
      "cell_type": "code",
      "source": [],
      "metadata": {
        "trusted": true,
        "id": "7ogLVeQZoIPb"
      },
      "outputs": [],
      "execution_count": null
    }
  ]
}